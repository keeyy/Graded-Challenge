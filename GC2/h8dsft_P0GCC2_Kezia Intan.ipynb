{
 "cells": [
  {
   "cell_type": "markdown",
   "metadata": {},
   "source": [
    "# GRADED CHALLENGE 2"
   ]
  },
  {
   "cell_type": "markdown",
   "metadata": {},
   "source": [
    "#### KEZIA INTAN\n",
    "#### BATCH 003"
   ]
  },
  {
   "cell_type": "markdown",
   "metadata": {},
   "source": [
    "## DESCRIPTION"
   ]
  },
  {
   "cell_type": "markdown",
   "metadata": {},
   "source": [
    "#### OBJECTIVE"
   ]
  },
  {
   "cell_type": "markdown",
   "metadata": {},
   "source": [
    "I will try to apply what i've learn about statistic descriptive and inferential"
   ]
  },
  {
   "cell_type": "markdown",
   "metadata": {},
   "source": [
    "#### PROBLEM STATEMENT"
   ]
  },
  {
   "cell_type": "markdown",
   "metadata": {},
   "source": [
    "I will doing to cleaning the data from missing value, changing datatypes, compare between index. I want to see if index one is same with another one or not."
   ]
  },
  {
   "cell_type": "markdown",
   "metadata": {},
   "source": [
    "## WORKING AREA"
   ]
  },
  {
   "cell_type": "markdown",
   "metadata": {},
   "source": [
    "#### Import libraries"
   ]
  },
  {
   "cell_type": "markdown",
   "metadata": {},
   "source": [
    "First we have to import any libraries that we will use"
   ]
  },
  {
   "cell_type": "code",
   "execution_count": 1,
   "metadata": {},
   "outputs": [],
   "source": [
    "import pandas as pd\n",
    "import numpy as np\n",
    "from numpy import percentile\n",
    "import seaborn as sns\n",
    "import matplotlib.pyplot as plt\n",
    "from scipy import stats"
   ]
  },
  {
   "cell_type": "markdown",
   "metadata": {},
   "source": [
    "### SQL QUERIES"
   ]
  },
  {
   "cell_type": "markdown",
   "metadata": {},
   "source": [
    "##### Data Loading"
   ]
  },
  {
   "cell_type": "markdown",
   "metadata": {},
   "source": [
    "Import the csv file which we had from google cloud query"
   ]
  },
  {
   "cell_type": "code",
   "execution_count": 2,
   "metadata": {},
   "outputs": [],
   "source": [
    "df = pd.read_csv('GC2_Kezia Intan.csv')"
   ]
  },
  {
   "cell_type": "code",
   "execution_count": 3,
   "metadata": {},
   "outputs": [
    {
     "data": {
      "text/html": [
       "<div>\n",
       "<style scoped>\n",
       "    .dataframe tbody tr th:only-of-type {\n",
       "        vertical-align: middle;\n",
       "    }\n",
       "\n",
       "    .dataframe tbody tr th {\n",
       "        vertical-align: top;\n",
       "    }\n",
       "\n",
       "    .dataframe thead th {\n",
       "        text-align: right;\n",
       "    }\n",
       "</style>\n",
       "<table border=\"1\" class=\"dataframe\">\n",
       "  <thead>\n",
       "    <tr style=\"text-align: right;\">\n",
       "      <th></th>\n",
       "      <th>report_date</th>\n",
       "      <th>load_type</th>\n",
       "      <th>load_time</th>\n",
       "      <th>load_weight</th>\n",
       "      <th>dropoff_site</th>\n",
       "    </tr>\n",
       "  </thead>\n",
       "  <tbody>\n",
       "    <tr>\n",
       "      <th>0</th>\n",
       "      <td>2021-07-08</td>\n",
       "      <td>TIRES</td>\n",
       "      <td>2021-07-08 12:00:00.000000 UTC</td>\n",
       "      <td>2260.0</td>\n",
       "      <td>MRF</td>\n",
       "    </tr>\n",
       "    <tr>\n",
       "      <th>1</th>\n",
       "      <td>2021-07-08</td>\n",
       "      <td>TIRES</td>\n",
       "      <td>2021-07-08 11:00:00.000000 UTC</td>\n",
       "      <td>1260.0</td>\n",
       "      <td>MRF</td>\n",
       "    </tr>\n",
       "    <tr>\n",
       "      <th>2</th>\n",
       "      <td>2021-07-08</td>\n",
       "      <td>TIRES</td>\n",
       "      <td>2021-07-08 03:00:00.000000 UTC</td>\n",
       "      <td>800.0</td>\n",
       "      <td>MRF</td>\n",
       "    </tr>\n",
       "    <tr>\n",
       "      <th>3</th>\n",
       "      <td>2021-05-01</td>\n",
       "      <td>TIRES</td>\n",
       "      <td>2021-05-01 12:29:00.000000 UTC</td>\n",
       "      <td>760.0</td>\n",
       "      <td>MRF</td>\n",
       "    </tr>\n",
       "    <tr>\n",
       "      <th>4</th>\n",
       "      <td>2021-07-03</td>\n",
       "      <td>TIRES</td>\n",
       "      <td>2021-07-03 12:09:00.000000 UTC</td>\n",
       "      <td>1400.0</td>\n",
       "      <td>MRF</td>\n",
       "    </tr>\n",
       "    <tr>\n",
       "      <th>...</th>\n",
       "      <td>...</td>\n",
       "      <td>...</td>\n",
       "      <td>...</td>\n",
       "      <td>...</td>\n",
       "      <td>...</td>\n",
       "    </tr>\n",
       "    <tr>\n",
       "      <th>26152</th>\n",
       "      <td>2021-03-01</td>\n",
       "      <td>ORGANICS</td>\n",
       "      <td>2021-03-01 11:26:00.000000 UTC</td>\n",
       "      <td>12100.0</td>\n",
       "      <td>ORGANICS BY GOSH</td>\n",
       "    </tr>\n",
       "    <tr>\n",
       "      <th>26153</th>\n",
       "      <td>2021-03-01</td>\n",
       "      <td>ORGANICS</td>\n",
       "      <td>2021-03-01 04:27:00.000000 UTC</td>\n",
       "      <td>10900.0</td>\n",
       "      <td>ORGANICS BY GOSH</td>\n",
       "    </tr>\n",
       "    <tr>\n",
       "      <th>26154</th>\n",
       "      <td>2021-03-01</td>\n",
       "      <td>ORGANICS</td>\n",
       "      <td>2021-03-01 05:55:00.000000 UTC</td>\n",
       "      <td>21800.0</td>\n",
       "      <td>ORGANICS BY GOSH</td>\n",
       "    </tr>\n",
       "    <tr>\n",
       "      <th>26155</th>\n",
       "      <td>2021-03-01</td>\n",
       "      <td>ORGANICS</td>\n",
       "      <td>2021-03-02 01:10:00.000000 UTC</td>\n",
       "      <td>5640.0</td>\n",
       "      <td>ORGANICS BY GOSH</td>\n",
       "    </tr>\n",
       "    <tr>\n",
       "      <th>26156</th>\n",
       "      <td>2021-03-01</td>\n",
       "      <td>RECYCLED METAL</td>\n",
       "      <td>2021-03-01 10:22:00.000000 UTC</td>\n",
       "      <td>360.0</td>\n",
       "      <td>AUSTIN IRON AND METAL</td>\n",
       "    </tr>\n",
       "  </tbody>\n",
       "</table>\n",
       "<p>26157 rows × 5 columns</p>\n",
       "</div>"
      ],
      "text/plain": [
       "      report_date       load_type                       load_time  \\\n",
       "0      2021-07-08           TIRES  2021-07-08 12:00:00.000000 UTC   \n",
       "1      2021-07-08           TIRES  2021-07-08 11:00:00.000000 UTC   \n",
       "2      2021-07-08           TIRES  2021-07-08 03:00:00.000000 UTC   \n",
       "3      2021-05-01           TIRES  2021-05-01 12:29:00.000000 UTC   \n",
       "4      2021-07-03           TIRES  2021-07-03 12:09:00.000000 UTC   \n",
       "...           ...             ...                             ...   \n",
       "26152  2021-03-01        ORGANICS  2021-03-01 11:26:00.000000 UTC   \n",
       "26153  2021-03-01        ORGANICS  2021-03-01 04:27:00.000000 UTC   \n",
       "26154  2021-03-01        ORGANICS  2021-03-01 05:55:00.000000 UTC   \n",
       "26155  2021-03-01        ORGANICS  2021-03-02 01:10:00.000000 UTC   \n",
       "26156  2021-03-01  RECYCLED METAL  2021-03-01 10:22:00.000000 UTC   \n",
       "\n",
       "       load_weight           dropoff_site  \n",
       "0           2260.0                    MRF  \n",
       "1           1260.0                    MRF  \n",
       "2            800.0                    MRF  \n",
       "3            760.0                    MRF  \n",
       "4           1400.0                    MRF  \n",
       "...            ...                    ...  \n",
       "26152      12100.0       ORGANICS BY GOSH  \n",
       "26153      10900.0       ORGANICS BY GOSH  \n",
       "26154      21800.0       ORGANICS BY GOSH  \n",
       "26155       5640.0       ORGANICS BY GOSH  \n",
       "26156        360.0  AUSTIN IRON AND METAL  \n",
       "\n",
       "[26157 rows x 5 columns]"
      ]
     },
     "execution_count": 3,
     "metadata": {},
     "output_type": "execute_result"
    }
   ],
   "source": [
    "df"
   ]
  },
  {
   "cell_type": "code",
   "execution_count": 4,
   "metadata": {},
   "outputs": [
    {
     "data": {
      "text/html": [
       "<div>\n",
       "<style scoped>\n",
       "    .dataframe tbody tr th:only-of-type {\n",
       "        vertical-align: middle;\n",
       "    }\n",
       "\n",
       "    .dataframe tbody tr th {\n",
       "        vertical-align: top;\n",
       "    }\n",
       "\n",
       "    .dataframe thead th {\n",
       "        text-align: right;\n",
       "    }\n",
       "</style>\n",
       "<table border=\"1\" class=\"dataframe\">\n",
       "  <thead>\n",
       "    <tr style=\"text-align: right;\">\n",
       "      <th></th>\n",
       "      <th>report_date</th>\n",
       "      <th>load_type</th>\n",
       "      <th>load_time</th>\n",
       "      <th>load_weight</th>\n",
       "      <th>dropoff_site</th>\n",
       "    </tr>\n",
       "  </thead>\n",
       "  <tbody>\n",
       "    <tr>\n",
       "      <th>0</th>\n",
       "      <td>2021-07-08</td>\n",
       "      <td>TIRES</td>\n",
       "      <td>2021-07-08 12:00:00.000000 UTC</td>\n",
       "      <td>2260.0</td>\n",
       "      <td>MRF</td>\n",
       "    </tr>\n",
       "    <tr>\n",
       "      <th>1</th>\n",
       "      <td>2021-07-08</td>\n",
       "      <td>TIRES</td>\n",
       "      <td>2021-07-08 11:00:00.000000 UTC</td>\n",
       "      <td>1260.0</td>\n",
       "      <td>MRF</td>\n",
       "    </tr>\n",
       "    <tr>\n",
       "      <th>2</th>\n",
       "      <td>2021-07-08</td>\n",
       "      <td>TIRES</td>\n",
       "      <td>2021-07-08 03:00:00.000000 UTC</td>\n",
       "      <td>800.0</td>\n",
       "      <td>MRF</td>\n",
       "    </tr>\n",
       "    <tr>\n",
       "      <th>3</th>\n",
       "      <td>2021-05-01</td>\n",
       "      <td>TIRES</td>\n",
       "      <td>2021-05-01 12:29:00.000000 UTC</td>\n",
       "      <td>760.0</td>\n",
       "      <td>MRF</td>\n",
       "    </tr>\n",
       "    <tr>\n",
       "      <th>4</th>\n",
       "      <td>2021-07-03</td>\n",
       "      <td>TIRES</td>\n",
       "      <td>2021-07-03 12:09:00.000000 UTC</td>\n",
       "      <td>1400.0</td>\n",
       "      <td>MRF</td>\n",
       "    </tr>\n",
       "  </tbody>\n",
       "</table>\n",
       "</div>"
      ],
      "text/plain": [
       "  report_date load_type                       load_time  load_weight  \\\n",
       "0  2021-07-08     TIRES  2021-07-08 12:00:00.000000 UTC       2260.0   \n",
       "1  2021-07-08     TIRES  2021-07-08 11:00:00.000000 UTC       1260.0   \n",
       "2  2021-07-08     TIRES  2021-07-08 03:00:00.000000 UTC        800.0   \n",
       "3  2021-05-01     TIRES  2021-05-01 12:29:00.000000 UTC        760.0   \n",
       "4  2021-07-03     TIRES  2021-07-03 12:09:00.000000 UTC       1400.0   \n",
       "\n",
       "  dropoff_site  \n",
       "0          MRF  \n",
       "1          MRF  \n",
       "2          MRF  \n",
       "3          MRF  \n",
       "4          MRF  "
      ]
     },
     "execution_count": 4,
     "metadata": {},
     "output_type": "execute_result"
    }
   ],
   "source": [
    "df.head()"
   ]
  },
  {
   "cell_type": "code",
   "execution_count": 5,
   "metadata": {},
   "outputs": [
    {
     "data": {
      "text/html": [
       "<div>\n",
       "<style scoped>\n",
       "    .dataframe tbody tr th:only-of-type {\n",
       "        vertical-align: middle;\n",
       "    }\n",
       "\n",
       "    .dataframe tbody tr th {\n",
       "        vertical-align: top;\n",
       "    }\n",
       "\n",
       "    .dataframe thead th {\n",
       "        text-align: right;\n",
       "    }\n",
       "</style>\n",
       "<table border=\"1\" class=\"dataframe\">\n",
       "  <thead>\n",
       "    <tr style=\"text-align: right;\">\n",
       "      <th></th>\n",
       "      <th>report_date</th>\n",
       "      <th>load_type</th>\n",
       "      <th>load_time</th>\n",
       "      <th>load_weight</th>\n",
       "      <th>dropoff_site</th>\n",
       "    </tr>\n",
       "  </thead>\n",
       "  <tbody>\n",
       "    <tr>\n",
       "      <th>26152</th>\n",
       "      <td>2021-03-01</td>\n",
       "      <td>ORGANICS</td>\n",
       "      <td>2021-03-01 11:26:00.000000 UTC</td>\n",
       "      <td>12100.0</td>\n",
       "      <td>ORGANICS BY GOSH</td>\n",
       "    </tr>\n",
       "    <tr>\n",
       "      <th>26153</th>\n",
       "      <td>2021-03-01</td>\n",
       "      <td>ORGANICS</td>\n",
       "      <td>2021-03-01 04:27:00.000000 UTC</td>\n",
       "      <td>10900.0</td>\n",
       "      <td>ORGANICS BY GOSH</td>\n",
       "    </tr>\n",
       "    <tr>\n",
       "      <th>26154</th>\n",
       "      <td>2021-03-01</td>\n",
       "      <td>ORGANICS</td>\n",
       "      <td>2021-03-01 05:55:00.000000 UTC</td>\n",
       "      <td>21800.0</td>\n",
       "      <td>ORGANICS BY GOSH</td>\n",
       "    </tr>\n",
       "    <tr>\n",
       "      <th>26155</th>\n",
       "      <td>2021-03-01</td>\n",
       "      <td>ORGANICS</td>\n",
       "      <td>2021-03-02 01:10:00.000000 UTC</td>\n",
       "      <td>5640.0</td>\n",
       "      <td>ORGANICS BY GOSH</td>\n",
       "    </tr>\n",
       "    <tr>\n",
       "      <th>26156</th>\n",
       "      <td>2021-03-01</td>\n",
       "      <td>RECYCLED METAL</td>\n",
       "      <td>2021-03-01 10:22:00.000000 UTC</td>\n",
       "      <td>360.0</td>\n",
       "      <td>AUSTIN IRON AND METAL</td>\n",
       "    </tr>\n",
       "  </tbody>\n",
       "</table>\n",
       "</div>"
      ],
      "text/plain": [
       "      report_date       load_type                       load_time  \\\n",
       "26152  2021-03-01        ORGANICS  2021-03-01 11:26:00.000000 UTC   \n",
       "26153  2021-03-01        ORGANICS  2021-03-01 04:27:00.000000 UTC   \n",
       "26154  2021-03-01        ORGANICS  2021-03-01 05:55:00.000000 UTC   \n",
       "26155  2021-03-01        ORGANICS  2021-03-02 01:10:00.000000 UTC   \n",
       "26156  2021-03-01  RECYCLED METAL  2021-03-01 10:22:00.000000 UTC   \n",
       "\n",
       "       load_weight           dropoff_site  \n",
       "26152      12100.0       ORGANICS BY GOSH  \n",
       "26153      10900.0       ORGANICS BY GOSH  \n",
       "26154      21800.0       ORGANICS BY GOSH  \n",
       "26155       5640.0       ORGANICS BY GOSH  \n",
       "26156        360.0  AUSTIN IRON AND METAL  "
      ]
     },
     "execution_count": 5,
     "metadata": {},
     "output_type": "execute_result"
    }
   ],
   "source": [
    "df.tail()"
   ]
  },
  {
   "cell_type": "markdown",
   "metadata": {},
   "source": [
    "We have to see what types of our datas"
   ]
  },
  {
   "cell_type": "code",
   "execution_count": 6,
   "metadata": {},
   "outputs": [
    {
     "name": "stdout",
     "output_type": "stream",
     "text": [
      "<class 'pandas.core.frame.DataFrame'>\n",
      "RangeIndex: 26157 entries, 0 to 26156\n",
      "Data columns (total 5 columns):\n",
      " #   Column        Non-Null Count  Dtype  \n",
      "---  ------        --------------  -----  \n",
      " 0   report_date   26157 non-null  object \n",
      " 1   load_type     26157 non-null  object \n",
      " 2   load_time     26157 non-null  object \n",
      " 3   load_weight   25109 non-null  float64\n",
      " 4   dropoff_site  26157 non-null  object \n",
      "dtypes: float64(1), object(4)\n",
      "memory usage: 1021.9+ KB\n"
     ]
    }
   ],
   "source": [
    "df.info()"
   ]
  },
  {
   "cell_type": "markdown",
   "metadata": {},
   "source": [
    "### Data Prepocessing"
   ]
  },
  {
   "cell_type": "markdown",
   "metadata": {},
   "source": [
    "Now we have to check if there is a missing values"
   ]
  },
  {
   "cell_type": "code",
   "execution_count": 7,
   "metadata": {},
   "outputs": [
    {
     "data": {
      "text/plain": [
       "report_date        0\n",
       "load_type          0\n",
       "load_time          0\n",
       "load_weight     1048\n",
       "dropoff_site       0\n",
       "dtype: int64"
      ]
     },
     "execution_count": 7,
     "metadata": {},
     "output_type": "execute_result"
    }
   ],
   "source": [
    "df.isnull().sum()"
   ]
  },
  {
   "cell_type": "markdown",
   "metadata": {},
   "source": [
    "There are some missing values, we will just fill it to 0 than drop the column"
   ]
  },
  {
   "cell_type": "code",
   "execution_count": 8,
   "metadata": {},
   "outputs": [],
   "source": [
    "df['load_weight'].fillna('0', inplace = True)"
   ]
  },
  {
   "cell_type": "markdown",
   "metadata": {},
   "source": [
    "Now there is no more missing value"
   ]
  },
  {
   "cell_type": "code",
   "execution_count": 9,
   "metadata": {},
   "outputs": [
    {
     "data": {
      "text/plain": [
       "report_date     0\n",
       "load_type       0\n",
       "load_time       0\n",
       "load_weight     0\n",
       "dropoff_site    0\n",
       "dtype: int64"
      ]
     },
     "execution_count": 9,
     "metadata": {},
     "output_type": "execute_result"
    }
   ],
   "source": [
    "df.isnull().sum()"
   ]
  },
  {
   "cell_type": "markdown",
   "metadata": {},
   "source": [
    "And we have to change the datatype of `report_date`"
   ]
  },
  {
   "cell_type": "code",
   "execution_count": 10,
   "metadata": {},
   "outputs": [],
   "source": [
    "df['report_date'] = pd.to_datetime(df['report_date'])"
   ]
  },
  {
   "cell_type": "code",
   "execution_count": 11,
   "metadata": {},
   "outputs": [
    {
     "name": "stdout",
     "output_type": "stream",
     "text": [
      "<class 'pandas.core.frame.DataFrame'>\n",
      "RangeIndex: 26157 entries, 0 to 26156\n",
      "Data columns (total 5 columns):\n",
      " #   Column        Non-Null Count  Dtype         \n",
      "---  ------        --------------  -----         \n",
      " 0   report_date   26157 non-null  datetime64[ns]\n",
      " 1   load_type     26157 non-null  object        \n",
      " 2   load_time     26157 non-null  object        \n",
      " 3   load_weight   26157 non-null  object        \n",
      " 4   dropoff_site  26157 non-null  object        \n",
      "dtypes: datetime64[ns](1), object(4)\n",
      "memory usage: 1021.9+ KB\n"
     ]
    }
   ],
   "source": [
    "df.info()"
   ]
  },
  {
   "cell_type": "markdown",
   "metadata": {},
   "source": [
    "And also the  `load_weight`"
   ]
  },
  {
   "cell_type": "code",
   "execution_count": 12,
   "metadata": {},
   "outputs": [],
   "source": [
    "convert = {'load_weight' : float}\n",
    "df = df.astype(convert)"
   ]
  },
  {
   "cell_type": "code",
   "execution_count": 13,
   "metadata": {},
   "outputs": [
    {
     "name": "stdout",
     "output_type": "stream",
     "text": [
      "<class 'pandas.core.frame.DataFrame'>\n",
      "RangeIndex: 26157 entries, 0 to 26156\n",
      "Data columns (total 5 columns):\n",
      " #   Column        Non-Null Count  Dtype         \n",
      "---  ------        --------------  -----         \n",
      " 0   report_date   26157 non-null  datetime64[ns]\n",
      " 1   load_type     26157 non-null  object        \n",
      " 2   load_time     26157 non-null  object        \n",
      " 3   load_weight   26157 non-null  float64       \n",
      " 4   dropoff_site  26157 non-null  object        \n",
      "dtypes: datetime64[ns](1), float64(1), object(3)\n",
      "memory usage: 1021.9+ KB\n"
     ]
    }
   ],
   "source": [
    "df.info()"
   ]
  },
  {
   "cell_type": "markdown",
   "metadata": {},
   "source": [
    "Now we want to drop the `load_time` column because we don't need that"
   ]
  },
  {
   "cell_type": "code",
   "execution_count": 14,
   "metadata": {},
   "outputs": [],
   "source": [
    "df.drop(['load_time'], axis = 1, inplace = True)"
   ]
  },
  {
   "cell_type": "code",
   "execution_count": 15,
   "metadata": {},
   "outputs": [
    {
     "data": {
      "text/html": [
       "<div>\n",
       "<style scoped>\n",
       "    .dataframe tbody tr th:only-of-type {\n",
       "        vertical-align: middle;\n",
       "    }\n",
       "\n",
       "    .dataframe tbody tr th {\n",
       "        vertical-align: top;\n",
       "    }\n",
       "\n",
       "    .dataframe thead th {\n",
       "        text-align: right;\n",
       "    }\n",
       "</style>\n",
       "<table border=\"1\" class=\"dataframe\">\n",
       "  <thead>\n",
       "    <tr style=\"text-align: right;\">\n",
       "      <th></th>\n",
       "      <th>report_date</th>\n",
       "      <th>load_type</th>\n",
       "      <th>load_weight</th>\n",
       "      <th>dropoff_site</th>\n",
       "    </tr>\n",
       "  </thead>\n",
       "  <tbody>\n",
       "    <tr>\n",
       "      <th>0</th>\n",
       "      <td>2021-07-08</td>\n",
       "      <td>TIRES</td>\n",
       "      <td>2260.0</td>\n",
       "      <td>MRF</td>\n",
       "    </tr>\n",
       "    <tr>\n",
       "      <th>1</th>\n",
       "      <td>2021-07-08</td>\n",
       "      <td>TIRES</td>\n",
       "      <td>1260.0</td>\n",
       "      <td>MRF</td>\n",
       "    </tr>\n",
       "    <tr>\n",
       "      <th>2</th>\n",
       "      <td>2021-07-08</td>\n",
       "      <td>TIRES</td>\n",
       "      <td>800.0</td>\n",
       "      <td>MRF</td>\n",
       "    </tr>\n",
       "    <tr>\n",
       "      <th>3</th>\n",
       "      <td>2021-05-01</td>\n",
       "      <td>TIRES</td>\n",
       "      <td>760.0</td>\n",
       "      <td>MRF</td>\n",
       "    </tr>\n",
       "    <tr>\n",
       "      <th>4</th>\n",
       "      <td>2021-07-03</td>\n",
       "      <td>TIRES</td>\n",
       "      <td>1400.0</td>\n",
       "      <td>MRF</td>\n",
       "    </tr>\n",
       "    <tr>\n",
       "      <th>...</th>\n",
       "      <td>...</td>\n",
       "      <td>...</td>\n",
       "      <td>...</td>\n",
       "      <td>...</td>\n",
       "    </tr>\n",
       "    <tr>\n",
       "      <th>26152</th>\n",
       "      <td>2021-03-01</td>\n",
       "      <td>ORGANICS</td>\n",
       "      <td>12100.0</td>\n",
       "      <td>ORGANICS BY GOSH</td>\n",
       "    </tr>\n",
       "    <tr>\n",
       "      <th>26153</th>\n",
       "      <td>2021-03-01</td>\n",
       "      <td>ORGANICS</td>\n",
       "      <td>10900.0</td>\n",
       "      <td>ORGANICS BY GOSH</td>\n",
       "    </tr>\n",
       "    <tr>\n",
       "      <th>26154</th>\n",
       "      <td>2021-03-01</td>\n",
       "      <td>ORGANICS</td>\n",
       "      <td>21800.0</td>\n",
       "      <td>ORGANICS BY GOSH</td>\n",
       "    </tr>\n",
       "    <tr>\n",
       "      <th>26155</th>\n",
       "      <td>2021-03-01</td>\n",
       "      <td>ORGANICS</td>\n",
       "      <td>5640.0</td>\n",
       "      <td>ORGANICS BY GOSH</td>\n",
       "    </tr>\n",
       "    <tr>\n",
       "      <th>26156</th>\n",
       "      <td>2021-03-01</td>\n",
       "      <td>RECYCLED METAL</td>\n",
       "      <td>360.0</td>\n",
       "      <td>AUSTIN IRON AND METAL</td>\n",
       "    </tr>\n",
       "  </tbody>\n",
       "</table>\n",
       "<p>26157 rows × 4 columns</p>\n",
       "</div>"
      ],
      "text/plain": [
       "      report_date       load_type  load_weight           dropoff_site\n",
       "0      2021-07-08           TIRES       2260.0                    MRF\n",
       "1      2021-07-08           TIRES       1260.0                    MRF\n",
       "2      2021-07-08           TIRES        800.0                    MRF\n",
       "3      2021-05-01           TIRES        760.0                    MRF\n",
       "4      2021-07-03           TIRES       1400.0                    MRF\n",
       "...           ...             ...          ...                    ...\n",
       "26152  2021-03-01        ORGANICS      12100.0       ORGANICS BY GOSH\n",
       "26153  2021-03-01        ORGANICS      10900.0       ORGANICS BY GOSH\n",
       "26154  2021-03-01        ORGANICS      21800.0       ORGANICS BY GOSH\n",
       "26155  2021-03-01        ORGANICS       5640.0       ORGANICS BY GOSH\n",
       "26156  2021-03-01  RECYCLED METAL        360.0  AUSTIN IRON AND METAL\n",
       "\n",
       "[26157 rows x 4 columns]"
      ]
     },
     "execution_count": 15,
     "metadata": {},
     "output_type": "execute_result"
    }
   ],
   "source": [
    "df"
   ]
  },
  {
   "cell_type": "markdown",
   "metadata": {},
   "source": [
    "### Data Exploration"
   ]
  },
  {
   "cell_type": "markdown",
   "metadata": {},
   "source": [
    "First we wanna see time span of the data that we have"
   ]
  },
  {
   "cell_type": "code",
   "execution_count": 16,
   "metadata": {},
   "outputs": [
    {
     "data": {
      "text/plain": [
       "Timedelta('189 days 00:00:00')"
      ]
     },
     "execution_count": 16,
     "metadata": {},
     "output_type": "execute_result"
    }
   ],
   "source": [
    "df['report_date'].max()-df['report_date'].min()"
   ]
  },
  {
   "cell_type": "markdown",
   "metadata": {},
   "source": [
    "Then we wanna see the unique data"
   ]
  },
  {
   "cell_type": "code",
   "execution_count": 17,
   "metadata": {},
   "outputs": [
    {
     "data": {
      "text/plain": [
       "array(['TIRES', 'RECYCLING - SINGLE STREAM', 'SWEEPING', 'BRUSH',\n",
       "       'GARBAGE COLLECTIONS', 'YARD TRIMMING', 'BULK', 'ORGANICS',\n",
       "       'DEAD ANIMAL', 'MIXED LITTER', 'LITTER', 'RECYCLED METAL',\n",
       "       'CONTAMINATED RECYCLING', 'CONTAMINATED ORGANICS'], dtype=object)"
      ]
     },
     "execution_count": 17,
     "metadata": {},
     "output_type": "execute_result"
    }
   ],
   "source": [
    "df.load_type.unique()"
   ]
  },
  {
   "cell_type": "code",
   "execution_count": 18,
   "metadata": {},
   "outputs": [
    {
     "data": {
      "text/plain": [
       "array(['MRF', 'TDS - MRF', 'ONION CREEK', 'PARK CENTER', 'HORNSBY BEND',\n",
       "       'TDS LANDFILL', 'GREAT NORTHERN', 'ORGANICS BY GOSH',\n",
       "       'BALCONES RECYCLING', 'ON ROUTE HIGH DUMP',\n",
       "       'AUSTIN IRON AND METAL', 'PARK BEND', 'BALCONES WOODS',\n",
       "       'STEINER LANDFILL', 'WESTFIELD', 'ST. EDWARDS',\n",
       "       'AUSTIN WOOD RECYCLING', 'WILCAB'], dtype=object)"
      ]
     },
     "execution_count": 18,
     "metadata": {},
     "output_type": "execute_result"
    }
   ],
   "source": [
    "df.dropoff_site.unique()"
   ]
  },
  {
   "cell_type": "code",
   "execution_count": 19,
   "metadata": {},
   "outputs": [
    {
     "data": {
      "text/plain": [
       "report_date      166\n",
       "load_type         14\n",
       "load_weight     1781\n",
       "dropoff_site      18\n",
       "dtype: int64"
      ]
     },
     "execution_count": 19,
     "metadata": {},
     "output_type": "execute_result"
    }
   ],
   "source": [
    "df.nunique()"
   ]
  },
  {
   "cell_type": "code",
   "execution_count": 20,
   "metadata": {},
   "outputs": [
    {
     "data": {
      "text/plain": [
       "GARBAGE COLLECTIONS          8242\n",
       "RECYCLING - SINGLE STREAM    6760\n",
       "ORGANICS                     5763\n",
       "BULK                         1594\n",
       "BRUSH                        1517\n",
       "SWEEPING                     1390\n",
       "MIXED LITTER                  329\n",
       "TIRES                         175\n",
       "DEAD ANIMAL                   150\n",
       "YARD TRIMMING                 137\n",
       "RECYCLED METAL                 57\n",
       "LITTER                         41\n",
       "CONTAMINATED RECYCLING          1\n",
       "CONTAMINATED ORGANICS           1\n",
       "Name: load_type, dtype: int64"
      ]
     },
     "execution_count": 20,
     "metadata": {},
     "output_type": "execute_result"
    }
   ],
   "source": [
    "df['load_type'].value_counts()"
   ]
  },
  {
   "cell_type": "markdown",
   "metadata": {},
   "source": [
    "### Central Tendency"
   ]
  },
  {
   "cell_type": "markdown",
   "metadata": {},
   "source": [
    "We wanna see the maximum data"
   ]
  },
  {
   "cell_type": "code",
   "execution_count": 21,
   "metadata": {},
   "outputs": [
    {
     "data": {
      "text/plain": [
       "245540.0"
      ]
     },
     "execution_count": 21,
     "metadata": {},
     "output_type": "execute_result"
    }
   ],
   "source": [
    "df['load_weight'].max()"
   ]
  },
  {
   "cell_type": "markdown",
   "metadata": {},
   "source": [
    "And also the minumum one"
   ]
  },
  {
   "cell_type": "code",
   "execution_count": 22,
   "metadata": {},
   "outputs": [
    {
     "data": {
      "text/plain": [
       "0.0"
      ]
     },
     "execution_count": 22,
     "metadata": {},
     "output_type": "execute_result"
    }
   ],
   "source": [
    "df['load_weight'].min()"
   ]
  },
  {
   "cell_type": "markdown",
   "metadata": {},
   "source": [
    "Now we want calculate the mean, median, mode by `dropoff_site` column of our data"
   ]
  },
  {
   "cell_type": "code",
   "execution_count": 23,
   "metadata": {},
   "outputs": [
    {
     "data": {
      "text/plain": [
       "dropoff_site\n",
       "AUSTIN IRON AND METAL      451.200000\n",
       "AUSTIN WOOD RECYCLING     4050.000000\n",
       "BALCONES RECYCLING        9464.652072\n",
       "BALCONES WOODS            8460.000000\n",
       "GREAT NORTHERN            1641.714286\n",
       "HORNSBY BEND              6616.628399\n",
       "MRF                       1799.982143\n",
       "ON ROUTE HIGH DUMP        1082.469136\n",
       "ONION CREEK                  0.000000\n",
       "ORGANICS BY GOSH         11789.731712\n",
       "PARK BEND                13385.000000\n",
       "PARK CENTER                  0.000000\n",
       "ST. EDWARDS                  0.000000\n",
       "STEINER LANDFILL           780.000000\n",
       "TDS - MRF                 9872.550882\n",
       "TDS LANDFILL             15165.151724\n",
       "WESTFIELD                16020.000000\n",
       "WILCAB                       0.000000\n",
       "Name: load_weight, dtype: float64"
      ]
     },
     "execution_count": 23,
     "metadata": {},
     "output_type": "execute_result"
    }
   ],
   "source": [
    "df.groupby(by = 'dropoff_site', sort = True)['load_weight'].mean()"
   ]
  },
  {
   "cell_type": "code",
   "execution_count": 24,
   "metadata": {},
   "outputs": [
    {
     "data": {
      "text/plain": [
       "dropoff_site\n",
       "AUSTIN IRON AND METAL      400.0\n",
       "AUSTIN WOOD RECYCLING     4050.0\n",
       "BALCONES RECYCLING        9840.0\n",
       "BALCONES WOODS            8460.0\n",
       "GREAT NORTHERN               0.0\n",
       "HORNSBY BEND              6380.0\n",
       "MRF                       1360.0\n",
       "ON ROUTE HIGH DUMP           0.0\n",
       "ONION CREEK                  0.0\n",
       "ORGANICS BY GOSH         11900.0\n",
       "PARK BEND                12330.0\n",
       "PARK CENTER                  0.0\n",
       "ST. EDWARDS                  0.0\n",
       "STEINER LANDFILL           780.0\n",
       "TDS - MRF                10330.0\n",
       "TDS LANDFILL             14920.0\n",
       "WESTFIELD                16020.0\n",
       "WILCAB                       0.0\n",
       "Name: load_weight, dtype: float64"
      ]
     },
     "execution_count": 24,
     "metadata": {},
     "output_type": "execute_result"
    }
   ],
   "source": [
    "df.groupby(by = 'dropoff_site', sort = True)['load_weight'].median()"
   ]
  },
  {
   "cell_type": "code",
   "execution_count": 25,
   "metadata": {},
   "outputs": [
    {
     "data": {
      "text/plain": [
       "0    TDS LANDFILL\n",
       "Name: dropoff_site, dtype: object"
      ]
     },
     "execution_count": 25,
     "metadata": {},
     "output_type": "execute_result"
    }
   ],
   "source": [
    "df['dropoff_site'].mode()"
   ]
  },
  {
   "cell_type": "markdown",
   "metadata": {},
   "source": [
    "Now we have to choose which data we want to analyse the descriptive"
   ]
  },
  {
   "cell_type": "code",
   "execution_count": 26,
   "metadata": {},
   "outputs": [
    {
     "data": {
      "text/html": [
       "<div>\n",
       "<style scoped>\n",
       "    .dataframe tbody tr th:only-of-type {\n",
       "        vertical-align: middle;\n",
       "    }\n",
       "\n",
       "    .dataframe tbody tr th {\n",
       "        vertical-align: top;\n",
       "    }\n",
       "\n",
       "    .dataframe thead th {\n",
       "        text-align: right;\n",
       "    }\n",
       "</style>\n",
       "<table border=\"1\" class=\"dataframe\">\n",
       "  <thead>\n",
       "    <tr style=\"text-align: right;\">\n",
       "      <th></th>\n",
       "      <th></th>\n",
       "      <th>load_weight</th>\n",
       "    </tr>\n",
       "    <tr>\n",
       "      <th>dropoff_site</th>\n",
       "      <th></th>\n",
       "      <th></th>\n",
       "    </tr>\n",
       "  </thead>\n",
       "  <tbody>\n",
       "    <tr>\n",
       "      <th rowspan=\"3\" valign=\"top\">AUSTIN IRON AND METAL</th>\n",
       "      <th>0</th>\n",
       "      <td>260.0</td>\n",
       "    </tr>\n",
       "    <tr>\n",
       "      <th>1</th>\n",
       "      <td>320.0</td>\n",
       "    </tr>\n",
       "    <tr>\n",
       "      <th>2</th>\n",
       "      <td>520.0</td>\n",
       "    </tr>\n",
       "    <tr>\n",
       "      <th rowspan=\"2\" valign=\"top\">AUSTIN WOOD RECYCLING</th>\n",
       "      <th>0</th>\n",
       "      <td>2340.0</td>\n",
       "    </tr>\n",
       "    <tr>\n",
       "      <th>1</th>\n",
       "      <td>5760.0</td>\n",
       "    </tr>\n",
       "    <tr>\n",
       "      <th>BALCONES RECYCLING</th>\n",
       "      <th>0</th>\n",
       "      <td>11880.0</td>\n",
       "    </tr>\n",
       "    <tr>\n",
       "      <th>BALCONES WOODS</th>\n",
       "      <th>0</th>\n",
       "      <td>8460.0</td>\n",
       "    </tr>\n",
       "    <tr>\n",
       "      <th>GREAT NORTHERN</th>\n",
       "      <th>0</th>\n",
       "      <td>0.0</td>\n",
       "    </tr>\n",
       "    <tr>\n",
       "      <th>HORNSBY BEND</th>\n",
       "      <th>0</th>\n",
       "      <td>5500.0</td>\n",
       "    </tr>\n",
       "    <tr>\n",
       "      <th>MRF</th>\n",
       "      <th>0</th>\n",
       "      <td>960.0</td>\n",
       "    </tr>\n",
       "    <tr>\n",
       "      <th>ON ROUTE HIGH DUMP</th>\n",
       "      <th>0</th>\n",
       "      <td>0.0</td>\n",
       "    </tr>\n",
       "    <tr>\n",
       "      <th>ONION CREEK</th>\n",
       "      <th>0</th>\n",
       "      <td>0.0</td>\n",
       "    </tr>\n",
       "    <tr>\n",
       "      <th>ORGANICS BY GOSH</th>\n",
       "      <th>0</th>\n",
       "      <td>14580.0</td>\n",
       "    </tr>\n",
       "    <tr>\n",
       "      <th rowspan=\"4\" valign=\"top\">PARK BEND</th>\n",
       "      <th>0</th>\n",
       "      <td>8480.0</td>\n",
       "    </tr>\n",
       "    <tr>\n",
       "      <th>1</th>\n",
       "      <td>8960.0</td>\n",
       "    </tr>\n",
       "    <tr>\n",
       "      <th>2</th>\n",
       "      <td>15700.0</td>\n",
       "    </tr>\n",
       "    <tr>\n",
       "      <th>3</th>\n",
       "      <td>20400.0</td>\n",
       "    </tr>\n",
       "    <tr>\n",
       "      <th>PARK CENTER</th>\n",
       "      <th>0</th>\n",
       "      <td>0.0</td>\n",
       "    </tr>\n",
       "    <tr>\n",
       "      <th>ST. EDWARDS</th>\n",
       "      <th>0</th>\n",
       "      <td>0.0</td>\n",
       "    </tr>\n",
       "    <tr>\n",
       "      <th>STEINER LANDFILL</th>\n",
       "      <th>0</th>\n",
       "      <td>780.0</td>\n",
       "    </tr>\n",
       "    <tr>\n",
       "      <th>TDS - MRF</th>\n",
       "      <th>0</th>\n",
       "      <td>10360.0</td>\n",
       "    </tr>\n",
       "    <tr>\n",
       "      <th rowspan=\"3\" valign=\"top\">TDS LANDFILL</th>\n",
       "      <th>0</th>\n",
       "      <td>20.0</td>\n",
       "    </tr>\n",
       "    <tr>\n",
       "      <th>1</th>\n",
       "      <td>60.0</td>\n",
       "    </tr>\n",
       "    <tr>\n",
       "      <th>2</th>\n",
       "      <td>12020.0</td>\n",
       "    </tr>\n",
       "    <tr>\n",
       "      <th>WESTFIELD</th>\n",
       "      <th>0</th>\n",
       "      <td>16020.0</td>\n",
       "    </tr>\n",
       "    <tr>\n",
       "      <th>WILCAB</th>\n",
       "      <th>0</th>\n",
       "      <td>0.0</td>\n",
       "    </tr>\n",
       "  </tbody>\n",
       "</table>\n",
       "</div>"
      ],
      "text/plain": [
       "                         load_weight\n",
       "dropoff_site                        \n",
       "AUSTIN IRON AND METAL 0        260.0\n",
       "                      1        320.0\n",
       "                      2        520.0\n",
       "AUSTIN WOOD RECYCLING 0       2340.0\n",
       "                      1       5760.0\n",
       "BALCONES RECYCLING    0      11880.0\n",
       "BALCONES WOODS        0       8460.0\n",
       "GREAT NORTHERN        0          0.0\n",
       "HORNSBY BEND          0       5500.0\n",
       "MRF                   0        960.0\n",
       "ON ROUTE HIGH DUMP    0          0.0\n",
       "ONION CREEK           0          0.0\n",
       "ORGANICS BY GOSH      0      14580.0\n",
       "PARK BEND             0       8480.0\n",
       "                      1       8960.0\n",
       "                      2      15700.0\n",
       "                      3      20400.0\n",
       "PARK CENTER           0          0.0\n",
       "ST. EDWARDS           0          0.0\n",
       "STEINER LANDFILL      0        780.0\n",
       "TDS - MRF             0      10360.0\n",
       "TDS LANDFILL          0         20.0\n",
       "                      1         60.0\n",
       "                      2      12020.0\n",
       "WESTFIELD             0      16020.0\n",
       "WILCAB                0          0.0"
      ]
     },
     "execution_count": 26,
     "metadata": {},
     "output_type": "execute_result"
    }
   ],
   "source": [
    "df.groupby(by = 'dropoff_site', sort = True)['load_weight'].apply(pd.Series.mode).to_frame()"
   ]
  },
  {
   "cell_type": "markdown",
   "metadata": {},
   "source": [
    "Here we want to see the total count of the `load_type` column"
   ]
  },
  {
   "cell_type": "code",
   "execution_count": 27,
   "metadata": {},
   "outputs": [
    {
     "data": {
      "text/plain": [
       "GARBAGE COLLECTIONS          8242\n",
       "RECYCLING - SINGLE STREAM    6760\n",
       "ORGANICS                     5763\n",
       "BULK                         1594\n",
       "BRUSH                        1517\n",
       "SWEEPING                     1390\n",
       "MIXED LITTER                  329\n",
       "TIRES                         175\n",
       "DEAD ANIMAL                   150\n",
       "YARD TRIMMING                 137\n",
       "RECYCLED METAL                 57\n",
       "LITTER                         41\n",
       "CONTAMINATED RECYCLING          1\n",
       "CONTAMINATED ORGANICS           1\n",
       "Name: load_type, dtype: int64"
      ]
     },
     "execution_count": 27,
     "metadata": {},
     "output_type": "execute_result"
    }
   ],
   "source": [
    "df['load_type'].value_counts()"
   ]
  },
  {
   "cell_type": "markdown",
   "metadata": {},
   "source": [
    "\n",
    "Here we will use the `organics` data"
   ]
  },
  {
   "cell_type": "code",
   "execution_count": 28,
   "metadata": {},
   "outputs": [
    {
     "data": {
      "text/html": [
       "<div>\n",
       "<style scoped>\n",
       "    .dataframe tbody tr th:only-of-type {\n",
       "        vertical-align: middle;\n",
       "    }\n",
       "\n",
       "    .dataframe tbody tr th {\n",
       "        vertical-align: top;\n",
       "    }\n",
       "\n",
       "    .dataframe thead th {\n",
       "        text-align: right;\n",
       "    }\n",
       "</style>\n",
       "<table border=\"1\" class=\"dataframe\">\n",
       "  <thead>\n",
       "    <tr style=\"text-align: right;\">\n",
       "      <th></th>\n",
       "      <th>report_date</th>\n",
       "      <th>load_type</th>\n",
       "      <th>load_weight</th>\n",
       "      <th>dropoff_site</th>\n",
       "    </tr>\n",
       "  </thead>\n",
       "  <tbody>\n",
       "    <tr>\n",
       "      <th>546</th>\n",
       "      <td>2021-04-10</td>\n",
       "      <td>ORGANICS</td>\n",
       "      <td>20.0</td>\n",
       "      <td>TDS LANDFILL</td>\n",
       "    </tr>\n",
       "    <tr>\n",
       "      <th>547</th>\n",
       "      <td>2021-04-24</td>\n",
       "      <td>ORGANICS</td>\n",
       "      <td>500.0</td>\n",
       "      <td>TDS LANDFILL</td>\n",
       "    </tr>\n",
       "    <tr>\n",
       "      <th>555</th>\n",
       "      <td>2021-02-27</td>\n",
       "      <td>ORGANICS</td>\n",
       "      <td>20.0</td>\n",
       "      <td>TDS LANDFILL</td>\n",
       "    </tr>\n",
       "    <tr>\n",
       "      <th>558</th>\n",
       "      <td>2021-03-13</td>\n",
       "      <td>ORGANICS</td>\n",
       "      <td>180.0</td>\n",
       "      <td>TDS LANDFILL</td>\n",
       "    </tr>\n",
       "    <tr>\n",
       "      <th>563</th>\n",
       "      <td>2021-06-26</td>\n",
       "      <td>ORGANICS</td>\n",
       "      <td>60.0</td>\n",
       "      <td>TDS LANDFILL</td>\n",
       "    </tr>\n",
       "    <tr>\n",
       "      <th>...</th>\n",
       "      <td>...</td>\n",
       "      <td>...</td>\n",
       "      <td>...</td>\n",
       "      <td>...</td>\n",
       "    </tr>\n",
       "    <tr>\n",
       "      <th>26151</th>\n",
       "      <td>2021-03-01</td>\n",
       "      <td>ORGANICS</td>\n",
       "      <td>18580.0</td>\n",
       "      <td>ORGANICS BY GOSH</td>\n",
       "    </tr>\n",
       "    <tr>\n",
       "      <th>26152</th>\n",
       "      <td>2021-03-01</td>\n",
       "      <td>ORGANICS</td>\n",
       "      <td>12100.0</td>\n",
       "      <td>ORGANICS BY GOSH</td>\n",
       "    </tr>\n",
       "    <tr>\n",
       "      <th>26153</th>\n",
       "      <td>2021-03-01</td>\n",
       "      <td>ORGANICS</td>\n",
       "      <td>10900.0</td>\n",
       "      <td>ORGANICS BY GOSH</td>\n",
       "    </tr>\n",
       "    <tr>\n",
       "      <th>26154</th>\n",
       "      <td>2021-03-01</td>\n",
       "      <td>ORGANICS</td>\n",
       "      <td>21800.0</td>\n",
       "      <td>ORGANICS BY GOSH</td>\n",
       "    </tr>\n",
       "    <tr>\n",
       "      <th>26155</th>\n",
       "      <td>2021-03-01</td>\n",
       "      <td>ORGANICS</td>\n",
       "      <td>5640.0</td>\n",
       "      <td>ORGANICS BY GOSH</td>\n",
       "    </tr>\n",
       "  </tbody>\n",
       "</table>\n",
       "<p>5763 rows × 4 columns</p>\n",
       "</div>"
      ],
      "text/plain": [
       "      report_date load_type  load_weight      dropoff_site\n",
       "546    2021-04-10  ORGANICS         20.0      TDS LANDFILL\n",
       "547    2021-04-24  ORGANICS        500.0      TDS LANDFILL\n",
       "555    2021-02-27  ORGANICS         20.0      TDS LANDFILL\n",
       "558    2021-03-13  ORGANICS        180.0      TDS LANDFILL\n",
       "563    2021-06-26  ORGANICS         60.0      TDS LANDFILL\n",
       "...           ...       ...          ...               ...\n",
       "26151  2021-03-01  ORGANICS      18580.0  ORGANICS BY GOSH\n",
       "26152  2021-03-01  ORGANICS      12100.0  ORGANICS BY GOSH\n",
       "26153  2021-03-01  ORGANICS      10900.0  ORGANICS BY GOSH\n",
       "26154  2021-03-01  ORGANICS      21800.0  ORGANICS BY GOSH\n",
       "26155  2021-03-01  ORGANICS       5640.0  ORGANICS BY GOSH\n",
       "\n",
       "[5763 rows x 4 columns]"
      ]
     },
     "execution_count": 28,
     "metadata": {},
     "output_type": "execute_result"
    }
   ],
   "source": [
    "organics = df.loc[df['load_type']=='ORGANICS']\n",
    "organics"
   ]
  },
  {
   "cell_type": "markdown",
   "metadata": {},
   "source": [
    "Here to count the total data of `organics` data. There are five type data of organics"
   ]
  },
  {
   "cell_type": "code",
   "execution_count": 29,
   "metadata": {},
   "outputs": [
    {
     "data": {
      "text/plain": [
       "dropoff_site\n",
       "HORNSBY BEND             16160.0\n",
       "ON ROUTE HIGH DUMP       87680.0\n",
       "ORGANICS BY GOSH      67744966.0\n",
       "PARK BEND                53540.0\n",
       "TDS LANDFILL             28020.0\n",
       "Name: load_weight, dtype: float64"
      ]
     },
     "execution_count": 29,
     "metadata": {},
     "output_type": "execute_result"
    }
   ],
   "source": [
    "total_organics = organics.groupby(by = 'dropoff_site', sort = True)['load_weight'].sum() \n",
    "total_organics"
   ]
  },
  {
   "cell_type": "markdown",
   "metadata": {},
   "source": [
    "This time we will use the `organics by gosh` data"
   ]
  },
  {
   "cell_type": "code",
   "execution_count": 30,
   "metadata": {},
   "outputs": [
    {
     "data": {
      "text/html": [
       "<div>\n",
       "<style scoped>\n",
       "    .dataframe tbody tr th:only-of-type {\n",
       "        vertical-align: middle;\n",
       "    }\n",
       "\n",
       "    .dataframe tbody tr th {\n",
       "        vertical-align: top;\n",
       "    }\n",
       "\n",
       "    .dataframe thead th {\n",
       "        text-align: right;\n",
       "    }\n",
       "</style>\n",
       "<table border=\"1\" class=\"dataframe\">\n",
       "  <thead>\n",
       "    <tr style=\"text-align: right;\">\n",
       "      <th></th>\n",
       "      <th>report_date</th>\n",
       "      <th>load_type</th>\n",
       "      <th>load_weight</th>\n",
       "      <th>dropoff_site</th>\n",
       "    </tr>\n",
       "  </thead>\n",
       "  <tbody>\n",
       "    <tr>\n",
       "      <th>775</th>\n",
       "      <td>2021-02-21</td>\n",
       "      <td>ORGANICS</td>\n",
       "      <td>2480.0</td>\n",
       "      <td>ORGANICS BY GOSH</td>\n",
       "    </tr>\n",
       "    <tr>\n",
       "      <th>776</th>\n",
       "      <td>2021-03-14</td>\n",
       "      <td>ORGANICS</td>\n",
       "      <td>21700.0</td>\n",
       "      <td>ORGANICS BY GOSH</td>\n",
       "    </tr>\n",
       "    <tr>\n",
       "      <th>777</th>\n",
       "      <td>2021-03-21</td>\n",
       "      <td>ORGANICS</td>\n",
       "      <td>7120.0</td>\n",
       "      <td>ORGANICS BY GOSH</td>\n",
       "    </tr>\n",
       "    <tr>\n",
       "      <th>778</th>\n",
       "      <td>2021-02-21</td>\n",
       "      <td>ORGANICS</td>\n",
       "      <td>5560.0</td>\n",
       "      <td>ORGANICS BY GOSH</td>\n",
       "    </tr>\n",
       "    <tr>\n",
       "      <th>779</th>\n",
       "      <td>2021-03-14</td>\n",
       "      <td>ORGANICS</td>\n",
       "      <td>20460.0</td>\n",
       "      <td>ORGANICS BY GOSH</td>\n",
       "    </tr>\n",
       "    <tr>\n",
       "      <th>...</th>\n",
       "      <td>...</td>\n",
       "      <td>...</td>\n",
       "      <td>...</td>\n",
       "      <td>...</td>\n",
       "    </tr>\n",
       "    <tr>\n",
       "      <th>26151</th>\n",
       "      <td>2021-03-01</td>\n",
       "      <td>ORGANICS</td>\n",
       "      <td>18580.0</td>\n",
       "      <td>ORGANICS BY GOSH</td>\n",
       "    </tr>\n",
       "    <tr>\n",
       "      <th>26152</th>\n",
       "      <td>2021-03-01</td>\n",
       "      <td>ORGANICS</td>\n",
       "      <td>12100.0</td>\n",
       "      <td>ORGANICS BY GOSH</td>\n",
       "    </tr>\n",
       "    <tr>\n",
       "      <th>26153</th>\n",
       "      <td>2021-03-01</td>\n",
       "      <td>ORGANICS</td>\n",
       "      <td>10900.0</td>\n",
       "      <td>ORGANICS BY GOSH</td>\n",
       "    </tr>\n",
       "    <tr>\n",
       "      <th>26154</th>\n",
       "      <td>2021-03-01</td>\n",
       "      <td>ORGANICS</td>\n",
       "      <td>21800.0</td>\n",
       "      <td>ORGANICS BY GOSH</td>\n",
       "    </tr>\n",
       "    <tr>\n",
       "      <th>26155</th>\n",
       "      <td>2021-03-01</td>\n",
       "      <td>ORGANICS</td>\n",
       "      <td>5640.0</td>\n",
       "      <td>ORGANICS BY GOSH</td>\n",
       "    </tr>\n",
       "  </tbody>\n",
       "</table>\n",
       "<p>5755 rows × 4 columns</p>\n",
       "</div>"
      ],
      "text/plain": [
       "      report_date load_type  load_weight      dropoff_site\n",
       "775    2021-02-21  ORGANICS       2480.0  ORGANICS BY GOSH\n",
       "776    2021-03-14  ORGANICS      21700.0  ORGANICS BY GOSH\n",
       "777    2021-03-21  ORGANICS       7120.0  ORGANICS BY GOSH\n",
       "778    2021-02-21  ORGANICS       5560.0  ORGANICS BY GOSH\n",
       "779    2021-03-14  ORGANICS      20460.0  ORGANICS BY GOSH\n",
       "...           ...       ...          ...               ...\n",
       "26151  2021-03-01  ORGANICS      18580.0  ORGANICS BY GOSH\n",
       "26152  2021-03-01  ORGANICS      12100.0  ORGANICS BY GOSH\n",
       "26153  2021-03-01  ORGANICS      10900.0  ORGANICS BY GOSH\n",
       "26154  2021-03-01  ORGANICS      21800.0  ORGANICS BY GOSH\n",
       "26155  2021-03-01  ORGANICS       5640.0  ORGANICS BY GOSH\n",
       "\n",
       "[5755 rows x 4 columns]"
      ]
     },
     "execution_count": 30,
     "metadata": {},
     "output_type": "execute_result"
    }
   ],
   "source": [
    "gosh = df.loc[df['dropoff_site']=='ORGANICS BY GOSH']\n",
    "gosh"
   ]
  },
  {
   "cell_type": "markdown",
   "metadata": {},
   "source": [
    "There are `5755` data of organics by gosh"
   ]
  },
  {
   "cell_type": "code",
   "execution_count": 31,
   "metadata": {},
   "outputs": [
    {
     "data": {
      "text/plain": [
       "5755"
      ]
     },
     "execution_count": 31,
     "metadata": {},
     "output_type": "execute_result"
    }
   ],
   "source": [
    "gosh_percent = gosh.value_counts().sum()\n",
    "gosh_percent"
   ]
  },
  {
   "cell_type": "code",
   "execution_count": 32,
   "metadata": {},
   "outputs": [
    {
     "data": {
      "text/plain": [
       "5763"
      ]
     },
     "execution_count": 32,
     "metadata": {},
     "output_type": "execute_result"
    }
   ],
   "source": [
    "organics.value_counts().sum()"
   ]
  },
  {
   "cell_type": "markdown",
   "metadata": {},
   "source": [
    "Now we want to find how much the total waste in organics by gosh"
   ]
  },
  {
   "cell_type": "code",
   "execution_count": 33,
   "metadata": {},
   "outputs": [
    {
     "name": "stdout",
     "output_type": "stream",
     "text": [
      "99.86118341141767 %\n"
     ]
    }
   ],
   "source": [
    "total_data = gosh_percent/organics.value_counts().sum() * 100\n",
    "print(total_data, '%')"
   ]
  },
  {
   "cell_type": "markdown",
   "metadata": {},
   "source": [
    "GOSH! There are 99% organics by gosh handled by in austin"
   ]
  },
  {
   "cell_type": "markdown",
   "metadata": {},
   "source": [
    "Now see if there is any missing value in 'gosh'"
   ]
  },
  {
   "cell_type": "code",
   "execution_count": 34,
   "metadata": {},
   "outputs": [
    {
     "data": {
      "text/plain": [
       "report_date     0\n",
       "load_type       0\n",
       "load_weight     0\n",
       "dropoff_site    0\n",
       "dtype: int64"
      ]
     },
     "execution_count": 34,
     "metadata": {},
     "output_type": "execute_result"
    }
   ],
   "source": [
    "gosh.isnull().sum()"
   ]
  },
  {
   "cell_type": "markdown",
   "metadata": {},
   "source": [
    "There isn't missing value"
   ]
  },
  {
   "cell_type": "markdown",
   "metadata": {},
   "source": [
    "Now we have to make the data distribution by making a visualization like this down below"
   ]
  },
  {
   "cell_type": "code",
   "execution_count": 35,
   "metadata": {},
   "outputs": [
    {
     "data": {
      "image/png": "[encoded data removed]",
      "text/plain": [
       "<Figure size 640x480 with 1 Axes>"
      ]
     },
     "metadata": {},
     "output_type": "display_data"
    }
   ],
   "source": [
    "gosh.plot.hist(title='ORGANICS BY GOSH', color='skyblue', bins=25)  \n",
    "plt.axvline(organics['load_weight'].mean(), color='red', linestyle='dashed', linewidth=2)\n",
    "plt.axvline(organics['load_weight'].median(), color='green', linestyle='dashed', linewidth=2)\n",
    "plt.show()"
   ]
  },
  {
   "cell_type": "markdown",
   "metadata": {},
   "source": [
    "Check if there skew in the distribution"
   ]
  },
  {
   "cell_type": "code",
   "execution_count": 36,
   "metadata": {},
   "outputs": [
    {
     "data": {
      "text/plain": [
       "0.044088679506210454"
      ]
     },
     "execution_count": 36,
     "metadata": {},
     "output_type": "execute_result"
    }
   ],
   "source": [
    "gosh['load_weight'].skew()"
   ]
  },
  {
   "cell_type": "markdown",
   "metadata": {},
   "source": [
    "There are 0,04 skewed but that is still okay, our data is normal"
   ]
  },
  {
   "cell_type": "code",
   "execution_count": 37,
   "metadata": {},
   "outputs": [
    {
     "data": {
      "text/plain": [
       "<AxesSubplot: ylabel='load_weight'>"
      ]
     },
     "execution_count": 37,
     "metadata": {},
     "output_type": "execute_result"
    },
    {
     "data": {
      "image/png": "[encoded data removed]",
      "text/plain": [
       "<Figure size 640x480 with 1 Axes>"
      ]
     },
     "metadata": {},
     "output_type": "display_data"
    }
   ],
   "source": [
    "sns.boxplot(data=gosh, y = 'load_weight')"
   ]
  },
  {
   "cell_type": "markdown",
   "metadata": {},
   "source": [
    "### Measure of variance"
   ]
  },
  {
   "cell_type": "markdown",
   "metadata": {},
   "source": [
    "Then we have to see the mean, median, mode, variance, standar deviation of data that we have"
   ]
  },
  {
   "cell_type": "code",
   "execution_count": 38,
   "metadata": {},
   "outputs": [
    {
     "data": {
      "text/plain": [
       "11789.731711555169"
      ]
     },
     "execution_count": 38,
     "metadata": {},
     "output_type": "execute_result"
    }
   ],
   "source": [
    "gosh['load_weight'].mean()"
   ]
  },
  {
   "cell_type": "code",
   "execution_count": 39,
   "metadata": {},
   "outputs": [
    {
     "data": {
      "text/plain": [
       "11900.0"
      ]
     },
     "execution_count": 39,
     "metadata": {},
     "output_type": "execute_result"
    }
   ],
   "source": [
    "gosh['load_weight'].median()"
   ]
  },
  {
   "cell_type": "code",
   "execution_count": 40,
   "metadata": {},
   "outputs": [
    {
     "data": {
      "text/plain": [
       "0    14580.0\n",
       "Name: load_weight, dtype: float64"
      ]
     },
     "execution_count": 40,
     "metadata": {},
     "output_type": "execute_result"
    }
   ],
   "source": [
    "gosh['load_weight'].mode()"
   ]
  },
  {
   "cell_type": "code",
   "execution_count": 41,
   "metadata": {},
   "outputs": [
    {
     "data": {
      "text/plain": [
       "25989104.34371961"
      ]
     },
     "execution_count": 41,
     "metadata": {},
     "output_type": "execute_result"
    }
   ],
   "source": [
    "gosh['load_weight'].var()"
   ]
  },
  {
   "cell_type": "code",
   "execution_count": 42,
   "metadata": {},
   "outputs": [
    {
     "data": {
      "text/plain": [
       "5097.950994636924"
      ]
     },
     "execution_count": 42,
     "metadata": {},
     "output_type": "execute_result"
    }
   ],
   "source": [
    "gosh['load_weight'].std()"
   ]
  },
  {
   "cell_type": "markdown",
   "metadata": {},
   "source": [
    "And also the percentile and quartile"
   ]
  },
  {
   "cell_type": "code",
   "execution_count": 43,
   "metadata": {},
   "outputs": [],
   "source": [
    "quartiles = percentile(gosh['load_weight'], [25, 50, 75])\n",
    "gosh_min, gosh_max = gosh['load_weight'].min(), gosh['load_weight'].max()\n",
    "\n",
    "q1 = quartiles[0]\n",
    "q2 = quartiles[1]\n",
    "q3 = quartiles[2]"
   ]
  },
  {
   "cell_type": "code",
   "execution_count": 44,
   "metadata": {},
   "outputs": [
    {
     "name": "stdout",
     "output_type": "stream",
     "text": [
      "0.0\n",
      "8100.0\n",
      "11900.0\n",
      "15540.0\n",
      "29660.0\n"
     ]
    }
   ],
   "source": [
    "print(gosh_min)\n",
    "print(q1)\n",
    "print(q2)\n",
    "print(q3)\n",
    "print(gosh_max)"
   ]
  },
  {
   "cell_type": "markdown",
   "metadata": {},
   "source": [
    "Also check the extreme value"
   ]
  },
  {
   "cell_type": "code",
   "execution_count": 45,
   "metadata": {},
   "outputs": [],
   "source": [
    "iqr = q3 - q1\n",
    "upper = q3 + 3 * iqr\n",
    "lower = q1 + 3 * iqr"
   ]
  },
  {
   "cell_type": "code",
   "execution_count": 46,
   "metadata": {},
   "outputs": [
    {
     "name": "stdout",
     "output_type": "stream",
     "text": [
      "7440.0\n",
      "37860.0\n",
      "30420.0\n"
     ]
    }
   ],
   "source": [
    "print(iqr)\n",
    "print(upper)\n",
    "print(lower)"
   ]
  },
  {
   "cell_type": "markdown",
   "metadata": {},
   "source": [
    "### Outlier"
   ]
  },
  {
   "cell_type": "markdown",
   "metadata": {},
   "source": [
    "After that we wanna see if there is any outliers from the upper boundary"
   ]
  },
  {
   "cell_type": "code",
   "execution_count": 47,
   "metadata": {},
   "outputs": [
    {
     "data": {
      "text/html": [
       "<div>\n",
       "<style scoped>\n",
       "    .dataframe tbody tr th:only-of-type {\n",
       "        vertical-align: middle;\n",
       "    }\n",
       "\n",
       "    .dataframe tbody tr th {\n",
       "        vertical-align: top;\n",
       "    }\n",
       "\n",
       "    .dataframe thead th {\n",
       "        text-align: right;\n",
       "    }\n",
       "</style>\n",
       "<table border=\"1\" class=\"dataframe\">\n",
       "  <thead>\n",
       "    <tr style=\"text-align: right;\">\n",
       "      <th></th>\n",
       "      <th>report_date</th>\n",
       "      <th>load_type</th>\n",
       "      <th>load_weight</th>\n",
       "      <th>dropoff_site</th>\n",
       "    </tr>\n",
       "  </thead>\n",
       "  <tbody>\n",
       "  </tbody>\n",
       "</table>\n",
       "</div>"
      ],
      "text/plain": [
       "Empty DataFrame\n",
       "Columns: [report_date, load_type, load_weight, dropoff_site]\n",
       "Index: []"
      ]
     },
     "execution_count": 47,
     "metadata": {},
     "output_type": "execute_result"
    }
   ],
   "source": [
    "gosh.loc[gosh['load_weight'] > 37860]"
   ]
  },
  {
   "cell_type": "markdown",
   "metadata": {},
   "source": [
    "Luckyly there is no outlier in our data so we don't have to drop the outlier"
   ]
  },
  {
   "cell_type": "code",
   "execution_count": 48,
   "metadata": {},
   "outputs": [
    {
     "data": {
      "text/plain": [
       "0"
      ]
     },
     "execution_count": 48,
     "metadata": {},
     "output_type": "execute_result"
    }
   ],
   "source": [
    "organics_percent = organics.loc[organics['load_weight'] > 37860].value_counts().sum()\n",
    "organics_percent"
   ]
  },
  {
   "cell_type": "markdown",
   "metadata": {},
   "source": [
    "There is no changes in our plot because there is no outlier that we have to drop"
   ]
  },
  {
   "cell_type": "code",
   "execution_count": 49,
   "metadata": {},
   "outputs": [
    {
     "data": {
      "text/plain": [
       "<AxesSubplot: ylabel='load_weight'>"
      ]
     },
     "execution_count": 49,
     "metadata": {},
     "output_type": "execute_result"
    },
    {
     "data": {
      "image/png": "[encoded data removed]",
      "text/plain": [
       "<Figure size 640x480 with 1 Axes>"
      ]
     },
     "metadata": {},
     "output_type": "display_data"
    }
   ],
   "source": [
    "sns.boxplot(data=gosh, y = 'load_weight')"
   ]
  },
  {
   "cell_type": "code",
   "execution_count": 50,
   "metadata": {},
   "outputs": [
    {
     "data": {
      "image/png": "[encoded data removed]",
      "text/plain": [
       "<Figure size 640x480 with 1 Axes>"
      ]
     },
     "metadata": {},
     "output_type": "display_data"
    }
   ],
   "source": [
    "gosh.plot.hist(title='ORGANICS BY GOSH', color='skyblue', bins=25)  \n",
    "plt.axvline(gosh['load_weight'].mean(), color='red', linestyle='dashed', linewidth=2)\n",
    "plt.axvline(gosh['load_weight'].median(), color='green', linestyle='dashed', linewidth=2)\n",
    "plt.show()"
   ]
  },
  {
   "cell_type": "markdown",
   "metadata": {},
   "source": [
    "After drop the outlier we have to double check it, check the skew, mean, median, mode. But in this case the output will be the same like the first because there is no outlier"
   ]
  },
  {
   "cell_type": "code",
   "execution_count": 51,
   "metadata": {},
   "outputs": [
    {
     "data": {
      "text/plain": [
       "0.044088679506210454"
      ]
     },
     "execution_count": 51,
     "metadata": {},
     "output_type": "execute_result"
    }
   ],
   "source": [
    "gosh['load_weight'].skew()"
   ]
  },
  {
   "cell_type": "code",
   "execution_count": 52,
   "metadata": {},
   "outputs": [
    {
     "data": {
      "text/plain": [
       "11789.731711555169"
      ]
     },
     "execution_count": 52,
     "metadata": {},
     "output_type": "execute_result"
    }
   ],
   "source": [
    "gosh['load_weight'].mean()"
   ]
  },
  {
   "cell_type": "code",
   "execution_count": 53,
   "metadata": {},
   "outputs": [
    {
     "data": {
      "text/plain": [
       "11900.0"
      ]
     },
     "execution_count": 53,
     "metadata": {},
     "output_type": "execute_result"
    }
   ],
   "source": [
    "gosh['load_weight'].median()"
   ]
  },
  {
   "cell_type": "code",
   "execution_count": 54,
   "metadata": {},
   "outputs": [
    {
     "data": {
      "text/plain": [
       "0    14580.0\n",
       "Name: load_weight, dtype: float64"
      ]
     },
     "execution_count": 54,
     "metadata": {},
     "output_type": "execute_result"
    }
   ],
   "source": [
    "gosh['load_weight'].mode()"
   ]
  },
  {
   "cell_type": "code",
   "execution_count": 55,
   "metadata": {},
   "outputs": [
    {
     "data": {
      "text/html": [
       "<div>\n",
       "<style scoped>\n",
       "    .dataframe tbody tr th:only-of-type {\n",
       "        vertical-align: middle;\n",
       "    }\n",
       "\n",
       "    .dataframe tbody tr th {\n",
       "        vertical-align: top;\n",
       "    }\n",
       "\n",
       "    .dataframe thead th {\n",
       "        text-align: right;\n",
       "    }\n",
       "</style>\n",
       "<table border=\"1\" class=\"dataframe\">\n",
       "  <thead>\n",
       "    <tr style=\"text-align: right;\">\n",
       "      <th></th>\n",
       "      <th>report_date</th>\n",
       "      <th>load_type</th>\n",
       "      <th>load_weight</th>\n",
       "      <th>dropoff_site</th>\n",
       "    </tr>\n",
       "  </thead>\n",
       "  <tbody>\n",
       "    <tr>\n",
       "      <th>0</th>\n",
       "      <td>2021-04-01</td>\n",
       "      <td>ORGANICS</td>\n",
       "      <td>14580.0</td>\n",
       "      <td>ORGANICS BY GOSH</td>\n",
       "    </tr>\n",
       "  </tbody>\n",
       "</table>\n",
       "</div>"
      ],
      "text/plain": [
       "  report_date load_type  load_weight      dropoff_site\n",
       "0  2021-04-01  ORGANICS      14580.0  ORGANICS BY GOSH"
      ]
     },
     "execution_count": 55,
     "metadata": {},
     "output_type": "execute_result"
    }
   ],
   "source": [
    "gosh.apply(pd.Series.mode)"
   ]
  },
  {
   "cell_type": "markdown",
   "metadata": {},
   "source": [
    "Now we want to compare with the `austin iron and metal` datas"
   ]
  },
  {
   "cell_type": "code",
   "execution_count": 56,
   "metadata": {},
   "outputs": [
    {
     "data": {
      "text/html": [
       "<div>\n",
       "<style scoped>\n",
       "    .dataframe tbody tr th:only-of-type {\n",
       "        vertical-align: middle;\n",
       "    }\n",
       "\n",
       "    .dataframe tbody tr th {\n",
       "        vertical-align: top;\n",
       "    }\n",
       "\n",
       "    .dataframe thead th {\n",
       "        text-align: right;\n",
       "    }\n",
       "</style>\n",
       "<table border=\"1\" class=\"dataframe\">\n",
       "  <thead>\n",
       "    <tr style=\"text-align: right;\">\n",
       "      <th></th>\n",
       "      <th>report_date</th>\n",
       "      <th>load_type</th>\n",
       "      <th>load_weight</th>\n",
       "      <th>dropoff_site</th>\n",
       "    </tr>\n",
       "  </thead>\n",
       "  <tbody>\n",
       "    <tr>\n",
       "      <th>1083</th>\n",
       "      <td>2021-07-08</td>\n",
       "      <td>RECYCLED METAL</td>\n",
       "      <td>320.0</td>\n",
       "      <td>AUSTIN IRON AND METAL</td>\n",
       "    </tr>\n",
       "    <tr>\n",
       "      <th>1314</th>\n",
       "      <td>2021-03-02</td>\n",
       "      <td>RECYCLED METAL</td>\n",
       "      <td>520.0</td>\n",
       "      <td>AUSTIN IRON AND METAL</td>\n",
       "    </tr>\n",
       "    <tr>\n",
       "      <th>1477</th>\n",
       "      <td>2021-03-03</td>\n",
       "      <td>RECYCLED METAL</td>\n",
       "      <td>8260.0</td>\n",
       "      <td>ORGANICS BY GOSH</td>\n",
       "    </tr>\n",
       "    <tr>\n",
       "      <th>2273</th>\n",
       "      <td>2021-03-08</td>\n",
       "      <td>RECYCLED METAL</td>\n",
       "      <td>350.0</td>\n",
       "      <td>AUSTIN IRON AND METAL</td>\n",
       "    </tr>\n",
       "    <tr>\n",
       "      <th>2529</th>\n",
       "      <td>2021-03-09</td>\n",
       "      <td>RECYCLED METAL</td>\n",
       "      <td>280.0</td>\n",
       "      <td>AUSTIN IRON AND METAL</td>\n",
       "    </tr>\n",
       "    <tr>\n",
       "      <th>2785</th>\n",
       "      <td>2021-03-10</td>\n",
       "      <td>RECYCLED METAL</td>\n",
       "      <td>500.0</td>\n",
       "      <td>AUSTIN IRON AND METAL</td>\n",
       "    </tr>\n",
       "    <tr>\n",
       "      <th>3025</th>\n",
       "      <td>2021-03-11</td>\n",
       "      <td>RECYCLED METAL</td>\n",
       "      <td>630.0</td>\n",
       "      <td>AUSTIN IRON AND METAL</td>\n",
       "    </tr>\n",
       "    <tr>\n",
       "      <th>3474</th>\n",
       "      <td>2021-03-15</td>\n",
       "      <td>RECYCLED METAL</td>\n",
       "      <td>1040.0</td>\n",
       "      <td>AUSTIN IRON AND METAL</td>\n",
       "    </tr>\n",
       "    <tr>\n",
       "      <th>4530</th>\n",
       "      <td>2021-03-22</td>\n",
       "      <td>RECYCLED METAL</td>\n",
       "      <td>5160.0</td>\n",
       "      <td>ORGANICS BY GOSH</td>\n",
       "    </tr>\n",
       "    <tr>\n",
       "      <th>4790</th>\n",
       "      <td>2021-03-23</td>\n",
       "      <td>RECYCLED METAL</td>\n",
       "      <td>290.0</td>\n",
       "      <td>AUSTIN IRON AND METAL</td>\n",
       "    </tr>\n",
       "    <tr>\n",
       "      <th>6445</th>\n",
       "      <td>2021-04-02</td>\n",
       "      <td>RECYCLED METAL</td>\n",
       "      <td>17440.0</td>\n",
       "      <td>ORGANICS BY GOSH</td>\n",
       "    </tr>\n",
       "    <tr>\n",
       "      <th>6888</th>\n",
       "      <td>2021-04-06</td>\n",
       "      <td>RECYCLED METAL</td>\n",
       "      <td>290.0</td>\n",
       "      <td>AUSTIN IRON AND METAL</td>\n",
       "    </tr>\n",
       "    <tr>\n",
       "      <th>7642</th>\n",
       "      <td>2021-04-12</td>\n",
       "      <td>RECYCLED METAL</td>\n",
       "      <td>240.0</td>\n",
       "      <td>AUSTIN IRON AND METAL</td>\n",
       "    </tr>\n",
       "    <tr>\n",
       "      <th>7814</th>\n",
       "      <td>2021-04-13</td>\n",
       "      <td>RECYCLED METAL</td>\n",
       "      <td>20760.0</td>\n",
       "      <td>ORGANICS BY GOSH</td>\n",
       "    </tr>\n",
       "    <tr>\n",
       "      <th>8713</th>\n",
       "      <td>2021-04-19</td>\n",
       "      <td>RECYCLED METAL</td>\n",
       "      <td>480.0</td>\n",
       "      <td>AUSTIN IRON AND METAL</td>\n",
       "    </tr>\n",
       "    <tr>\n",
       "      <th>9122</th>\n",
       "      <td>2021-04-21</td>\n",
       "      <td>RECYCLED METAL</td>\n",
       "      <td>710.0</td>\n",
       "      <td>AUSTIN IRON AND METAL</td>\n",
       "    </tr>\n",
       "    <tr>\n",
       "      <th>9320</th>\n",
       "      <td>2021-04-22</td>\n",
       "      <td>RECYCLED METAL</td>\n",
       "      <td>560.0</td>\n",
       "      <td>AUSTIN IRON AND METAL</td>\n",
       "    </tr>\n",
       "    <tr>\n",
       "      <th>9876</th>\n",
       "      <td>2021-04-27</td>\n",
       "      <td>RECYCLED METAL</td>\n",
       "      <td>260.0</td>\n",
       "      <td>AUSTIN IRON AND METAL</td>\n",
       "    </tr>\n",
       "    <tr>\n",
       "      <th>10083</th>\n",
       "      <td>2021-04-28</td>\n",
       "      <td>RECYCLED METAL</td>\n",
       "      <td>400.0</td>\n",
       "      <td>AUSTIN IRON AND METAL</td>\n",
       "    </tr>\n",
       "    <tr>\n",
       "      <th>10247</th>\n",
       "      <td>2021-04-29</td>\n",
       "      <td>RECYCLED METAL</td>\n",
       "      <td>470.0</td>\n",
       "      <td>AUSTIN IRON AND METAL</td>\n",
       "    </tr>\n",
       "    <tr>\n",
       "      <th>10598</th>\n",
       "      <td>2021-05-03</td>\n",
       "      <td>RECYCLED METAL</td>\n",
       "      <td>300.0</td>\n",
       "      <td>AUSTIN IRON AND METAL</td>\n",
       "    </tr>\n",
       "    <tr>\n",
       "      <th>10787</th>\n",
       "      <td>2021-05-04</td>\n",
       "      <td>RECYCLED METAL</td>\n",
       "      <td>520.0</td>\n",
       "      <td>AUSTIN IRON AND METAL</td>\n",
       "    </tr>\n",
       "    <tr>\n",
       "      <th>10976</th>\n",
       "      <td>2021-05-05</td>\n",
       "      <td>RECYCLED METAL</td>\n",
       "      <td>650.0</td>\n",
       "      <td>AUSTIN IRON AND METAL</td>\n",
       "    </tr>\n",
       "    <tr>\n",
       "      <th>11151</th>\n",
       "      <td>2021-05-06</td>\n",
       "      <td>RECYCLED METAL</td>\n",
       "      <td>550.0</td>\n",
       "      <td>AUSTIN IRON AND METAL</td>\n",
       "    </tr>\n",
       "    <tr>\n",
       "      <th>11518</th>\n",
       "      <td>2021-05-10</td>\n",
       "      <td>RECYCLED METAL</td>\n",
       "      <td>660.0</td>\n",
       "      <td>AUSTIN IRON AND METAL</td>\n",
       "    </tr>\n",
       "    <tr>\n",
       "      <th>11706</th>\n",
       "      <td>2021-05-11</td>\n",
       "      <td>RECYCLED METAL</td>\n",
       "      <td>1060.0</td>\n",
       "      <td>AUSTIN IRON AND METAL</td>\n",
       "    </tr>\n",
       "    <tr>\n",
       "      <th>11920</th>\n",
       "      <td>2021-05-12</td>\n",
       "      <td>RECYCLED METAL</td>\n",
       "      <td>600.0</td>\n",
       "      <td>AUSTIN IRON AND METAL</td>\n",
       "    </tr>\n",
       "    <tr>\n",
       "      <th>12114</th>\n",
       "      <td>2021-05-13</td>\n",
       "      <td>RECYCLED METAL</td>\n",
       "      <td>320.0</td>\n",
       "      <td>AUSTIN IRON AND METAL</td>\n",
       "    </tr>\n",
       "    <tr>\n",
       "      <th>12681</th>\n",
       "      <td>2021-05-18</td>\n",
       "      <td>RECYCLED METAL</td>\n",
       "      <td>520.0</td>\n",
       "      <td>AUSTIN IRON AND METAL</td>\n",
       "    </tr>\n",
       "    <tr>\n",
       "      <th>13040</th>\n",
       "      <td>2021-05-20</td>\n",
       "      <td>RECYCLED METAL</td>\n",
       "      <td>230.0</td>\n",
       "      <td>AUSTIN IRON AND METAL</td>\n",
       "    </tr>\n",
       "    <tr>\n",
       "      <th>13576</th>\n",
       "      <td>2021-05-25</td>\n",
       "      <td>RECYCLED METAL</td>\n",
       "      <td>600.0</td>\n",
       "      <td>AUSTIN IRON AND METAL</td>\n",
       "    </tr>\n",
       "    <tr>\n",
       "      <th>13958</th>\n",
       "      <td>2021-05-27</td>\n",
       "      <td>RECYCLED METAL</td>\n",
       "      <td>220.0</td>\n",
       "      <td>AUSTIN IRON AND METAL</td>\n",
       "    </tr>\n",
       "    <tr>\n",
       "      <th>14468</th>\n",
       "      <td>2021-06-01</td>\n",
       "      <td>RECYCLED METAL</td>\n",
       "      <td>530.0</td>\n",
       "      <td>AUSTIN IRON AND METAL</td>\n",
       "    </tr>\n",
       "    <tr>\n",
       "      <th>14817</th>\n",
       "      <td>2021-06-03</td>\n",
       "      <td>RECYCLED METAL</td>\n",
       "      <td>260.0</td>\n",
       "      <td>AUSTIN IRON AND METAL</td>\n",
       "    </tr>\n",
       "    <tr>\n",
       "      <th>15168</th>\n",
       "      <td>2021-06-07</td>\n",
       "      <td>RECYCLED METAL</td>\n",
       "      <td>510.0</td>\n",
       "      <td>AUSTIN IRON AND METAL</td>\n",
       "    </tr>\n",
       "    <tr>\n",
       "      <th>15355</th>\n",
       "      <td>2021-06-08</td>\n",
       "      <td>RECYCLED METAL</td>\n",
       "      <td>320.0</td>\n",
       "      <td>AUSTIN IRON AND METAL</td>\n",
       "    </tr>\n",
       "    <tr>\n",
       "      <th>15764</th>\n",
       "      <td>2021-06-10</td>\n",
       "      <td>RECYCLED METAL</td>\n",
       "      <td>340.0</td>\n",
       "      <td>AUSTIN IRON AND METAL</td>\n",
       "    </tr>\n",
       "    <tr>\n",
       "      <th>16129</th>\n",
       "      <td>2021-06-15</td>\n",
       "      <td>RECYCLED METAL</td>\n",
       "      <td>230.0</td>\n",
       "      <td>MRF</td>\n",
       "    </tr>\n",
       "    <tr>\n",
       "      <th>16499</th>\n",
       "      <td>2021-06-16</td>\n",
       "      <td>RECYCLED METAL</td>\n",
       "      <td>160.0</td>\n",
       "      <td>AUSTIN IRON AND METAL</td>\n",
       "    </tr>\n",
       "    <tr>\n",
       "      <th>16644</th>\n",
       "      <td>2021-06-17</td>\n",
       "      <td>RECYCLED METAL</td>\n",
       "      <td>11040.0</td>\n",
       "      <td>ORGANICS BY GOSH</td>\n",
       "    </tr>\n",
       "    <tr>\n",
       "      <th>16702</th>\n",
       "      <td>2021-06-17</td>\n",
       "      <td>RECYCLED METAL</td>\n",
       "      <td>380.0</td>\n",
       "      <td>AUSTIN IRON AND METAL</td>\n",
       "    </tr>\n",
       "    <tr>\n",
       "      <th>17063</th>\n",
       "      <td>2021-06-21</td>\n",
       "      <td>RECYCLED METAL</td>\n",
       "      <td>340.0</td>\n",
       "      <td>AUSTIN IRON AND METAL</td>\n",
       "    </tr>\n",
       "    <tr>\n",
       "      <th>17250</th>\n",
       "      <td>2021-06-22</td>\n",
       "      <td>RECYCLED METAL</td>\n",
       "      <td>800.0</td>\n",
       "      <td>AUSTIN IRON AND METAL</td>\n",
       "    </tr>\n",
       "    <tr>\n",
       "      <th>17444</th>\n",
       "      <td>2021-06-23</td>\n",
       "      <td>RECYCLED METAL</td>\n",
       "      <td>460.0</td>\n",
       "      <td>AUSTIN IRON AND METAL</td>\n",
       "    </tr>\n",
       "    <tr>\n",
       "      <th>17561</th>\n",
       "      <td>2021-06-24</td>\n",
       "      <td>RECYCLED METAL</td>\n",
       "      <td>220.0</td>\n",
       "      <td>TDS LANDFILL</td>\n",
       "    </tr>\n",
       "    <tr>\n",
       "      <th>18979</th>\n",
       "      <td>2021-07-06</td>\n",
       "      <td>RECYCLED METAL</td>\n",
       "      <td>150.0</td>\n",
       "      <td>AUSTIN IRON AND METAL</td>\n",
       "    </tr>\n",
       "    <tr>\n",
       "      <th>19127</th>\n",
       "      <td>2021-07-07</td>\n",
       "      <td>RECYCLED METAL</td>\n",
       "      <td>540.0</td>\n",
       "      <td>AUSTIN IRON AND METAL</td>\n",
       "    </tr>\n",
       "    <tr>\n",
       "      <th>19687</th>\n",
       "      <td>2021-01-05</td>\n",
       "      <td>RECYCLED METAL</td>\n",
       "      <td>260.0</td>\n",
       "      <td>AUSTIN IRON AND METAL</td>\n",
       "    </tr>\n",
       "    <tr>\n",
       "      <th>19872</th>\n",
       "      <td>2021-01-06</td>\n",
       "      <td>RECYCLED METAL</td>\n",
       "      <td>220.0</td>\n",
       "      <td>AUSTIN IRON AND METAL</td>\n",
       "    </tr>\n",
       "    <tr>\n",
       "      <th>20785</th>\n",
       "      <td>2021-01-13</td>\n",
       "      <td>RECYCLED METAL</td>\n",
       "      <td>640.0</td>\n",
       "      <td>AUSTIN IRON AND METAL</td>\n",
       "    </tr>\n",
       "    <tr>\n",
       "      <th>21516</th>\n",
       "      <td>2021-01-19</td>\n",
       "      <td>RECYCLED METAL</td>\n",
       "      <td>830.0</td>\n",
       "      <td>AUSTIN IRON AND METAL</td>\n",
       "    </tr>\n",
       "    <tr>\n",
       "      <th>23735</th>\n",
       "      <td>2021-02-04</td>\n",
       "      <td>RECYCLED METAL</td>\n",
       "      <td>140.0</td>\n",
       "      <td>AUSTIN IRON AND METAL</td>\n",
       "    </tr>\n",
       "    <tr>\n",
       "      <th>24099</th>\n",
       "      <td>2021-02-08</td>\n",
       "      <td>RECYCLED METAL</td>\n",
       "      <td>390.0</td>\n",
       "      <td>AUSTIN IRON AND METAL</td>\n",
       "    </tr>\n",
       "    <tr>\n",
       "      <th>24288</th>\n",
       "      <td>2021-02-09</td>\n",
       "      <td>RECYCLED METAL</td>\n",
       "      <td>780.0</td>\n",
       "      <td>AUSTIN IRON AND METAL</td>\n",
       "    </tr>\n",
       "    <tr>\n",
       "      <th>24501</th>\n",
       "      <td>2021-02-10</td>\n",
       "      <td>RECYCLED METAL</td>\n",
       "      <td>180.0</td>\n",
       "      <td>AUSTIN IRON AND METAL</td>\n",
       "    </tr>\n",
       "    <tr>\n",
       "      <th>25156</th>\n",
       "      <td>2021-02-23</td>\n",
       "      <td>RECYCLED METAL</td>\n",
       "      <td>400.0</td>\n",
       "      <td>AUSTIN IRON AND METAL</td>\n",
       "    </tr>\n",
       "    <tr>\n",
       "      <th>26156</th>\n",
       "      <td>2021-03-01</td>\n",
       "      <td>RECYCLED METAL</td>\n",
       "      <td>360.0</td>\n",
       "      <td>AUSTIN IRON AND METAL</td>\n",
       "    </tr>\n",
       "  </tbody>\n",
       "</table>\n",
       "</div>"
      ],
      "text/plain": [
       "      report_date       load_type  load_weight           dropoff_site\n",
       "1083   2021-07-08  RECYCLED METAL        320.0  AUSTIN IRON AND METAL\n",
       "1314   2021-03-02  RECYCLED METAL        520.0  AUSTIN IRON AND METAL\n",
       "1477   2021-03-03  RECYCLED METAL       8260.0       ORGANICS BY GOSH\n",
       "2273   2021-03-08  RECYCLED METAL        350.0  AUSTIN IRON AND METAL\n",
       "2529   2021-03-09  RECYCLED METAL        280.0  AUSTIN IRON AND METAL\n",
       "2785   2021-03-10  RECYCLED METAL        500.0  AUSTIN IRON AND METAL\n",
       "3025   2021-03-11  RECYCLED METAL        630.0  AUSTIN IRON AND METAL\n",
       "3474   2021-03-15  RECYCLED METAL       1040.0  AUSTIN IRON AND METAL\n",
       "4530   2021-03-22  RECYCLED METAL       5160.0       ORGANICS BY GOSH\n",
       "4790   2021-03-23  RECYCLED METAL        290.0  AUSTIN IRON AND METAL\n",
       "6445   2021-04-02  RECYCLED METAL      17440.0       ORGANICS BY GOSH\n",
       "6888   2021-04-06  RECYCLED METAL        290.0  AUSTIN IRON AND METAL\n",
       "7642   2021-04-12  RECYCLED METAL        240.0  AUSTIN IRON AND METAL\n",
       "7814   2021-04-13  RECYCLED METAL      20760.0       ORGANICS BY GOSH\n",
       "8713   2021-04-19  RECYCLED METAL        480.0  AUSTIN IRON AND METAL\n",
       "9122   2021-04-21  RECYCLED METAL        710.0  AUSTIN IRON AND METAL\n",
       "9320   2021-04-22  RECYCLED METAL        560.0  AUSTIN IRON AND METAL\n",
       "9876   2021-04-27  RECYCLED METAL        260.0  AUSTIN IRON AND METAL\n",
       "10083  2021-04-28  RECYCLED METAL        400.0  AUSTIN IRON AND METAL\n",
       "10247  2021-04-29  RECYCLED METAL        470.0  AUSTIN IRON AND METAL\n",
       "10598  2021-05-03  RECYCLED METAL        300.0  AUSTIN IRON AND METAL\n",
       "10787  2021-05-04  RECYCLED METAL        520.0  AUSTIN IRON AND METAL\n",
       "10976  2021-05-05  RECYCLED METAL        650.0  AUSTIN IRON AND METAL\n",
       "11151  2021-05-06  RECYCLED METAL        550.0  AUSTIN IRON AND METAL\n",
       "11518  2021-05-10  RECYCLED METAL        660.0  AUSTIN IRON AND METAL\n",
       "11706  2021-05-11  RECYCLED METAL       1060.0  AUSTIN IRON AND METAL\n",
       "11920  2021-05-12  RECYCLED METAL        600.0  AUSTIN IRON AND METAL\n",
       "12114  2021-05-13  RECYCLED METAL        320.0  AUSTIN IRON AND METAL\n",
       "12681  2021-05-18  RECYCLED METAL        520.0  AUSTIN IRON AND METAL\n",
       "13040  2021-05-20  RECYCLED METAL        230.0  AUSTIN IRON AND METAL\n",
       "13576  2021-05-25  RECYCLED METAL        600.0  AUSTIN IRON AND METAL\n",
       "13958  2021-05-27  RECYCLED METAL        220.0  AUSTIN IRON AND METAL\n",
       "14468  2021-06-01  RECYCLED METAL        530.0  AUSTIN IRON AND METAL\n",
       "14817  2021-06-03  RECYCLED METAL        260.0  AUSTIN IRON AND METAL\n",
       "15168  2021-06-07  RECYCLED METAL        510.0  AUSTIN IRON AND METAL\n",
       "15355  2021-06-08  RECYCLED METAL        320.0  AUSTIN IRON AND METAL\n",
       "15764  2021-06-10  RECYCLED METAL        340.0  AUSTIN IRON AND METAL\n",
       "16129  2021-06-15  RECYCLED METAL        230.0                    MRF\n",
       "16499  2021-06-16  RECYCLED METAL        160.0  AUSTIN IRON AND METAL\n",
       "16644  2021-06-17  RECYCLED METAL      11040.0       ORGANICS BY GOSH\n",
       "16702  2021-06-17  RECYCLED METAL        380.0  AUSTIN IRON AND METAL\n",
       "17063  2021-06-21  RECYCLED METAL        340.0  AUSTIN IRON AND METAL\n",
       "17250  2021-06-22  RECYCLED METAL        800.0  AUSTIN IRON AND METAL\n",
       "17444  2021-06-23  RECYCLED METAL        460.0  AUSTIN IRON AND METAL\n",
       "17561  2021-06-24  RECYCLED METAL        220.0           TDS LANDFILL\n",
       "18979  2021-07-06  RECYCLED METAL        150.0  AUSTIN IRON AND METAL\n",
       "19127  2021-07-07  RECYCLED METAL        540.0  AUSTIN IRON AND METAL\n",
       "19687  2021-01-05  RECYCLED METAL        260.0  AUSTIN IRON AND METAL\n",
       "19872  2021-01-06  RECYCLED METAL        220.0  AUSTIN IRON AND METAL\n",
       "20785  2021-01-13  RECYCLED METAL        640.0  AUSTIN IRON AND METAL\n",
       "21516  2021-01-19  RECYCLED METAL        830.0  AUSTIN IRON AND METAL\n",
       "23735  2021-02-04  RECYCLED METAL        140.0  AUSTIN IRON AND METAL\n",
       "24099  2021-02-08  RECYCLED METAL        390.0  AUSTIN IRON AND METAL\n",
       "24288  2021-02-09  RECYCLED METAL        780.0  AUSTIN IRON AND METAL\n",
       "24501  2021-02-10  RECYCLED METAL        180.0  AUSTIN IRON AND METAL\n",
       "25156  2021-02-23  RECYCLED METAL        400.0  AUSTIN IRON AND METAL\n",
       "26156  2021-03-01  RECYCLED METAL        360.0  AUSTIN IRON AND METAL"
      ]
     },
     "execution_count": 56,
     "metadata": {},
     "output_type": "execute_result"
    }
   ],
   "source": [
    "metal = df.loc[df['load_type']=='RECYCLED METAL']\n",
    "metal"
   ]
  },
  {
   "cell_type": "markdown",
   "metadata": {},
   "source": [
    "There are 50 datas here"
   ]
  },
  {
   "cell_type": "code",
   "execution_count": 57,
   "metadata": {},
   "outputs": [
    {
     "data": {
      "text/plain": [
       "RECYCLED METAL    57\n",
       "Name: load_type, dtype: int64"
      ]
     },
     "execution_count": 57,
     "metadata": {},
     "output_type": "execute_result"
    }
   ],
   "source": [
    "metal['load_type'].value_counts()"
   ]
  },
  {
   "cell_type": "markdown",
   "metadata": {},
   "source": [
    "Cause there is just only `austin iron and metal`  we will use that"
   ]
  },
  {
   "cell_type": "code",
   "execution_count": 58,
   "metadata": {},
   "outputs": [],
   "source": [
    "ironman = metal.loc[metal['dropoff_site']=='AUSTIN IRON AND METAL']"
   ]
  },
  {
   "cell_type": "markdown",
   "metadata": {},
   "source": [
    "Just follow the first step above"
   ]
  },
  {
   "cell_type": "markdown",
   "metadata": {},
   "source": [
    "Count the mean, median, mode, variance, standar deviation"
   ]
  },
  {
   "cell_type": "code",
   "execution_count": 59,
   "metadata": {},
   "outputs": [
    {
     "data": {
      "text/plain": [
       "451.2"
      ]
     },
     "execution_count": 59,
     "metadata": {},
     "output_type": "execute_result"
    }
   ],
   "source": [
    "ironman['load_weight'].mean()"
   ]
  },
  {
   "cell_type": "code",
   "execution_count": 60,
   "metadata": {},
   "outputs": [
    {
     "data": {
      "text/plain": [
       "400.0"
      ]
     },
     "execution_count": 60,
     "metadata": {},
     "output_type": "execute_result"
    }
   ],
   "source": [
    "ironman['load_weight'].median()"
   ]
  },
  {
   "cell_type": "code",
   "execution_count": 61,
   "metadata": {},
   "outputs": [
    {
     "data": {
      "text/plain": [
       "0    260.0\n",
       "1    320.0\n",
       "2    520.0\n",
       "Name: load_weight, dtype: float64"
      ]
     },
     "execution_count": 61,
     "metadata": {},
     "output_type": "execute_result"
    }
   ],
   "source": [
    "ironman['load_weight'].mode()"
   ]
  },
  {
   "cell_type": "code",
   "execution_count": 62,
   "metadata": {},
   "outputs": [
    {
     "data": {
      "text/plain": [
       "46504.65306122449"
      ]
     },
     "execution_count": 62,
     "metadata": {},
     "output_type": "execute_result"
    }
   ],
   "source": [
    "ironman['load_weight'].var()"
   ]
  },
  {
   "cell_type": "code",
   "execution_count": 63,
   "metadata": {},
   "outputs": [
    {
     "data": {
      "text/plain": [
       "215.64937528595925"
      ]
     },
     "execution_count": 63,
     "metadata": {},
     "output_type": "execute_result"
    }
   ],
   "source": [
    "ironman['load_weight'].std()"
   ]
  },
  {
   "cell_type": "markdown",
   "metadata": {},
   "source": [
    "Making the distribution plot"
   ]
  },
  {
   "cell_type": "code",
   "execution_count": 64,
   "metadata": {},
   "outputs": [
    {
     "data": {
      "image/png": "[encoded data removed]",
      "text/plain": [
       "<Figure size 640x480 with 1 Axes>"
      ]
     },
     "metadata": {},
     "output_type": "display_data"
    }
   ],
   "source": [
    "ironman.plot.hist(title='AUSTIN IRON AND METAL', color='skyblue', bins=25)  \n",
    "plt.axvline(ironman['load_weight'].mean(), color='red', linestyle='dashed', linewidth=2)\n",
    "plt.axvline(ironman['load_weight'].median(), color='green', linestyle='dashed', linewidth=2)\n",
    "plt.show()"
   ]
  },
  {
   "cell_type": "markdown",
   "metadata": {},
   "source": [
    "Check if there is a skew"
   ]
  },
  {
   "cell_type": "code",
   "execution_count": 65,
   "metadata": {},
   "outputs": [
    {
     "data": {
      "text/plain": [
       "0.8969633828989727"
      ]
     },
     "execution_count": 65,
     "metadata": {},
     "output_type": "execute_result"
    }
   ],
   "source": [
    "ironman['load_weight'].skew()"
   ]
  },
  {
   "cell_type": "code",
   "execution_count": 66,
   "metadata": {},
   "outputs": [
    {
     "data": {
      "text/plain": [
       "<AxesSubplot: ylabel='load_weight'>"
      ]
     },
     "execution_count": 66,
     "metadata": {},
     "output_type": "execute_result"
    },
    {
     "data": {
      "image/png": "[encoded data removed]",
      "text/plain": [
       "<Figure size 640x480 with 1 Axes>"
      ]
     },
     "metadata": {},
     "output_type": "display_data"
    }
   ],
   "source": [
    "sns.boxplot(data = ironman, y = 'load_weight')"
   ]
  },
  {
   "cell_type": "markdown",
   "metadata": {},
   "source": [
    "Also count the percenntile, quartile"
   ]
  },
  {
   "cell_type": "code",
   "execution_count": 67,
   "metadata": {},
   "outputs": [],
   "source": [
    "quartiles = percentile(metal['load_weight'], [25, 50, 75])\n",
    "ironman_min, ironman_max = ironman['load_weight'].min(), ironman['load_weight'].max()\n",
    "\n",
    "q1 = quartiles[0]\n",
    "q2 = quartiles[1]\n",
    "q3 = quartiles[2]"
   ]
  },
  {
   "cell_type": "code",
   "execution_count": 68,
   "metadata": {},
   "outputs": [
    {
     "name": "stdout",
     "output_type": "stream",
     "text": [
      "140.0\n",
      "290.0\n",
      "460.0\n",
      "630.0\n",
      "140.0\n"
     ]
    }
   ],
   "source": [
    "print(ironman_min)\n",
    "print(q1)\n",
    "print(q2)\n",
    "print(q3)\n",
    "print(ironman_min)"
   ]
  },
  {
   "cell_type": "markdown",
   "metadata": {},
   "source": [
    "And checking the extreme value"
   ]
  },
  {
   "cell_type": "code",
   "execution_count": 69,
   "metadata": {},
   "outputs": [],
   "source": [
    "iqr = q3 - q1\n",
    "upper = q3 + 3 * iqr\n",
    "lower = q1 + 3 * iqr"
   ]
  },
  {
   "cell_type": "code",
   "execution_count": 70,
   "metadata": {},
   "outputs": [
    {
     "name": "stdout",
     "output_type": "stream",
     "text": [
      "340.0\n",
      "1650.0\n",
      "1310.0\n"
     ]
    }
   ],
   "source": [
    "print(iqr)\n",
    "print(upper)\n",
    "print(lower)"
   ]
  },
  {
   "cell_type": "markdown",
   "metadata": {},
   "source": [
    "Here is also no outlier"
   ]
  },
  {
   "cell_type": "code",
   "execution_count": 71,
   "metadata": {},
   "outputs": [
    {
     "data": {
      "text/html": [
       "<div>\n",
       "<style scoped>\n",
       "    .dataframe tbody tr th:only-of-type {\n",
       "        vertical-align: middle;\n",
       "    }\n",
       "\n",
       "    .dataframe tbody tr th {\n",
       "        vertical-align: top;\n",
       "    }\n",
       "\n",
       "    .dataframe thead th {\n",
       "        text-align: right;\n",
       "    }\n",
       "</style>\n",
       "<table border=\"1\" class=\"dataframe\">\n",
       "  <thead>\n",
       "    <tr style=\"text-align: right;\">\n",
       "      <th></th>\n",
       "      <th>report_date</th>\n",
       "      <th>load_type</th>\n",
       "      <th>load_weight</th>\n",
       "      <th>dropoff_site</th>\n",
       "    </tr>\n",
       "  </thead>\n",
       "  <tbody>\n",
       "  </tbody>\n",
       "</table>\n",
       "</div>"
      ],
      "text/plain": [
       "Empty DataFrame\n",
       "Columns: [report_date, load_type, load_weight, dropoff_site]\n",
       "Index: []"
      ]
     },
     "execution_count": 71,
     "metadata": {},
     "output_type": "execute_result"
    }
   ],
   "source": [
    "ironman.loc[ironman['load_weight'] > 1360]"
   ]
  },
  {
   "cell_type": "code",
   "execution_count": 72,
   "metadata": {},
   "outputs": [
    {
     "data": {
      "text/plain": [
       "<AxesSubplot: ylabel='load_weight'>"
      ]
     },
     "execution_count": 72,
     "metadata": {},
     "output_type": "execute_result"
    },
    {
     "data": {
      "image/png": "[encoded data removed]",
      "text/plain": [
       "<Figure size 640x480 with 1 Axes>"
      ]
     },
     "metadata": {},
     "output_type": "display_data"
    }
   ],
   "source": [
    "sns.boxplot(data = ironman, y = 'load_weight')"
   ]
  },
  {
   "cell_type": "markdown",
   "metadata": {},
   "source": [
    "The skew is still same"
   ]
  },
  {
   "cell_type": "code",
   "execution_count": 73,
   "metadata": {},
   "outputs": [
    {
     "data": {
      "text/plain": [
       "0.8969633828989727"
      ]
     },
     "execution_count": 73,
     "metadata": {},
     "output_type": "execute_result"
    }
   ],
   "source": [
    "ironman['load_weight'].skew()"
   ]
  },
  {
   "cell_type": "markdown",
   "metadata": {},
   "source": [
    "And the distribution plot too"
   ]
  },
  {
   "cell_type": "code",
   "execution_count": 74,
   "metadata": {},
   "outputs": [
    {
     "data": {
      "image/png": "[encoded data removed]",
      "text/plain": [
       "<Figure size 640x480 with 1 Axes>"
      ]
     },
     "metadata": {},
     "output_type": "display_data"
    }
   ],
   "source": [
    "ironman.plot.hist(title='AUSTIN IRON AND METAL', color='skyblue', bins=25)  \n",
    "plt.axvline(ironman['load_weight'].mean(), color='red', linestyle='dashed', linewidth=2)\n",
    "plt.axvline(ironman['load_weight'].median(), color='green', linestyle='dashed', linewidth=2)\n",
    "plt.show()"
   ]
  },
  {
   "cell_type": "code",
   "execution_count": 75,
   "metadata": {},
   "outputs": [
    {
     "data": {
      "text/plain": [
       "451.2"
      ]
     },
     "execution_count": 75,
     "metadata": {},
     "output_type": "execute_result"
    }
   ],
   "source": [
    "ironman['load_weight'].mean()"
   ]
  },
  {
   "cell_type": "code",
   "execution_count": 76,
   "metadata": {},
   "outputs": [
    {
     "data": {
      "text/plain": [
       "400.0"
      ]
     },
     "execution_count": 76,
     "metadata": {},
     "output_type": "execute_result"
    }
   ],
   "source": [
    "ironman['load_weight'].median()"
   ]
  },
  {
   "cell_type": "code",
   "execution_count": 77,
   "metadata": {},
   "outputs": [
    {
     "data": {
      "text/plain": [
       "0    260.0\n",
       "1    320.0\n",
       "2    520.0\n",
       "Name: load_weight, dtype: float64"
      ]
     },
     "execution_count": 77,
     "metadata": {},
     "output_type": "execute_result"
    }
   ],
   "source": [
    "ironman['load_weight'].mode()"
   ]
  },
  {
   "cell_type": "markdown",
   "metadata": {},
   "source": [
    "# PROBLEM 1"
   ]
  },
  {
   "cell_type": "markdown",
   "metadata": {},
   "source": [
    "## HYPOTHESIS TESTING"
   ]
  },
  {
   "cell_type": "markdown",
   "metadata": {},
   "source": [
    "### Our hypothesis testing (2S2T)\n",
    "##### H0 : &mu; 'ORGANICS BY GOSH' load weight = &mu; 'AUSTIN IRON AND METAL' load weight\n",
    "##### H1 : &mu; 'ORGANICS BY GOSH' load weight != &mu; 'AUSTIN IRON AND METAL' load weight"
   ]
  },
  {
   "cell_type": "markdown",
   "metadata": {},
   "source": [
    "After we analyze and organize our two site which is `organics by gosh` and `asutin iron and metal`. We will use the T-test"
   ]
  },
  {
   "cell_type": "code",
   "execution_count": 78,
   "metadata": {},
   "outputs": [
    {
     "name": "stdout",
     "output_type": "stream",
     "text": [
      "15.190527060385643\n",
      "3.8834001512651677e-51\n"
     ]
    }
   ],
   "source": [
    "t_stat, p_val = stats.ttest_ind(gosh['load_weight'],metal['load_weight'])\n",
    "\n",
    "print(t_stat)\n",
    "print(p_val)"
   ]
  },
  {
   "cell_type": "code",
   "execution_count": 80,
   "metadata": {},
   "outputs": [
    {
     "name": "stdout",
     "output_type": "stream",
     "text": [
      "11367.066702706126\n",
      "12212.396720404211\n"
     ]
    },
    {
     "data": {
      "image/png": "[encoded data removed]",
      "text/plain": [
       "<Figure size 1600x500 with 1 Axes>"
      ]
     },
     "metadata": {},
     "output_type": "display_data"
    }
   ],
   "source": [
    "# simulation\n",
    "gosh_pop = np.random.normal(gosh['load_weight'].mean(),gosh['load_weight'].std(),10000)\n",
    "ironman_pop = np.random.normal(ironman['load_weight'].mean(),ironman['load_weight'].std(),10000)\n",
    "\n",
    "# confidence interval based on BALCONS RECYLING\n",
    "ci = stats.norm.interval(0.95, gosh['load_weight'].mean(), ironman['load_weight'].std())\n",
    "\n",
    "plt.figure(figsize=(16,5))\n",
    "sns.histplot(gosh_pop, label='ORGANICS BY GOSH (POP)',color='skyblue')\n",
    "sns.histplot(ironman_pop, label='AUSTIN IRON AND METAL (POP)',color='red')\n",
    "\n",
    "# mean\n",
    "plt.axvline(gosh['load_weight'].mean(), color='blue', linewidth=2, label='ORGANICS BY GOSH load weight mean')\n",
    "plt.axvline(ironman['load_weight'].mean(), color='red',  linewidth=2, label='AUSTIN IRON AND METAL load weight mean')\n",
    "\n",
    "plt.axvline(ci[1], color='green', linestyle='dashed', linewidth=2, label='confidence threshold of 95%')\n",
    "plt.axvline(ci[0], color='green', linestyle='dashed', linewidth=2, label='confidence threshold of 95%')\n",
    "\n",
    "# alternative hypotesis\n",
    "plt.axvline(gosh_pop.mean()+t_stat*gosh_pop.std(), color='black', linestyle='dashed', linewidth=2, label = 'Alternative Hypothesis')\n",
    "plt.axvline(ironman_pop.mean()-t_stat*ironman_pop.std(), color='black', linestyle='dashed', linewidth=2)\n",
    "\n",
    "plt.legend()\n",
    "print(ci[0])\n",
    "print(ci[1])"
   ]
  },
  {
   "cell_type": "markdown",
   "metadata": {},
   "source": [
    "We can conclude that we reject H0 because the `austin iron and metal` is not the same as `organics by gosh`"
   ]
  },
  {
   "cell_type": "markdown",
   "metadata": {},
   "source": [
    "## QUESTIONS"
   ]
  },
  {
   "cell_type": "markdown",
   "metadata": {},
   "source": [
    "1. Teknik apa yang kamu pilih untuk handling outlier? jelaskan alasannya!\n",
    "2. Apa konsep dibalik confidence interval sehingga kita dapat menggunakannya untuk menyelesaikan langkah pada nomor 7?\n",
    "3. Jelaskan jenis uji hipotesis apa yang kamu terapkan dan mengapa?"
   ]
  },
  {
   "cell_type": "markdown",
   "metadata": {},
   "source": [
    "1. For handling the outliers I use the z-score technique. That is for finding the outliers from normal distribution"
   ]
  },
  {
   "cell_type": "markdown",
   "metadata": {},
   "source": [
    "2. Confidence interval is for to know how accurate the interval of our site. Usually we use 95% of confidence level or people used to say &alpha; (alpha). By this 95 per 100 confidence level it's make us confiden too about our data to not to fall away between upper and lower values"
   ]
  },
  {
   "cell_type": "markdown",
   "metadata": {},
   "source": [
    "3. I am using the 2 sample 2 tale because I want to know the average of load weight between `organics by gosh` and `austin iron and metal` is same or not. The hypothesis is proving that there is a significant difference between the two sites"
   ]
  },
  {
   "cell_type": "markdown",
   "metadata": {},
   "source": [
    "# PROBLEM 2"
   ]
  },
  {
   "cell_type": "markdown",
   "metadata": {},
   "source": [
    "We have formula like this to know how much load garbage in austin"
   ]
  },
  {
   "cell_type": "markdown",
   "metadata": {},
   "source": [
    "W(tomorrow) = W(today) + V * delta t"
   ]
  },
  {
   "cell_type": "markdown",
   "metadata": {},
   "source": [
    "First we grouping the data by date"
   ]
  },
  {
   "cell_type": "code",
   "execution_count": 82,
   "metadata": {},
   "outputs": [
    {
     "data": {
      "text/html": [
       "<div>\n",
       "<style scoped>\n",
       "    .dataframe tbody tr th:only-of-type {\n",
       "        vertical-align: middle;\n",
       "    }\n",
       "\n",
       "    .dataframe tbody tr th {\n",
       "        vertical-align: top;\n",
       "    }\n",
       "\n",
       "    .dataframe thead th {\n",
       "        text-align: right;\n",
       "    }\n",
       "</style>\n",
       "<table border=\"1\" class=\"dataframe\">\n",
       "  <thead>\n",
       "    <tr style=\"text-align: right;\">\n",
       "      <th></th>\n",
       "      <th>load_weight</th>\n",
       "    </tr>\n",
       "    <tr>\n",
       "      <th>report_date</th>\n",
       "      <th></th>\n",
       "    </tr>\n",
       "  </thead>\n",
       "  <tbody>\n",
       "    <tr>\n",
       "      <th>2021-01-01</th>\n",
       "      <td>0.0</td>\n",
       "    </tr>\n",
       "    <tr>\n",
       "      <th>2021-01-02</th>\n",
       "      <td>2170130.0</td>\n",
       "    </tr>\n",
       "    <tr>\n",
       "      <th>2021-01-04</th>\n",
       "      <td>2920260.0</td>\n",
       "    </tr>\n",
       "    <tr>\n",
       "      <th>2021-01-05</th>\n",
       "      <td>2388540.0</td>\n",
       "    </tr>\n",
       "    <tr>\n",
       "      <th>2021-01-06</th>\n",
       "      <td>2396550.0</td>\n",
       "    </tr>\n",
       "    <tr>\n",
       "      <th>...</th>\n",
       "      <td>...</td>\n",
       "    </tr>\n",
       "    <tr>\n",
       "      <th>2021-07-05</th>\n",
       "      <td>1897290.0</td>\n",
       "    </tr>\n",
       "    <tr>\n",
       "      <th>2021-07-06</th>\n",
       "      <td>1921640.0</td>\n",
       "    </tr>\n",
       "    <tr>\n",
       "      <th>2021-07-07</th>\n",
       "      <td>1553080.0</td>\n",
       "    </tr>\n",
       "    <tr>\n",
       "      <th>2021-07-08</th>\n",
       "      <td>1417650.0</td>\n",
       "    </tr>\n",
       "    <tr>\n",
       "      <th>2021-07-09</th>\n",
       "      <td>120340.0</td>\n",
       "    </tr>\n",
       "  </tbody>\n",
       "</table>\n",
       "<p>166 rows × 1 columns</p>\n",
       "</div>"
      ],
      "text/plain": [
       "             load_weight\n",
       "report_date             \n",
       "2021-01-01           0.0\n",
       "2021-01-02     2170130.0\n",
       "2021-01-04     2920260.0\n",
       "2021-01-05     2388540.0\n",
       "2021-01-06     2396550.0\n",
       "...                  ...\n",
       "2021-07-05     1897290.0\n",
       "2021-07-06     1921640.0\n",
       "2021-07-07     1553080.0\n",
       "2021-07-08     1417650.0\n",
       "2021-07-09      120340.0\n",
       "\n",
       "[166 rows x 1 columns]"
      ]
     },
     "execution_count": 82,
     "metadata": {},
     "output_type": "execute_result"
    }
   ],
   "source": [
    "f = df.groupby('report_date')['load_weight'].sum().to_frame()\n",
    "f"
   ]
  },
  {
   "cell_type": "markdown",
   "metadata": {},
   "source": [
    "Now count the differential of our data and dividing with the differential of our data range"
   ]
  },
  {
   "cell_type": "code",
   "execution_count": 83,
   "metadata": {},
   "outputs": [
    {
     "data": {
      "text/plain": [
       "array([ 2.17013000e+06,  7.50130000e+05, -5.31720000e+05,  8.01000000e+03,\n",
       "        4.17800000e+04, -5.93380000e+05, -1.81681000e+06,  2.46847000e+06,\n",
       "       -4.22690000e+05, -5.34000000e+03, -3.57300000e+04, -3.15860000e+05,\n",
       "       -1.68213000e+06,  2.40679000e+06, -2.67390000e+05, -7.91300000e+04,\n",
       "       -2.97600000e+04, -2.86770000e+05, -1.59572000e+06,  2.31477000e+06,\n",
       "       -4.40200000e+05,  3.03900000e+04,  3.62200000e+04, -3.88890000e+05,\n",
       "       -1.73503000e+06,  2.43934000e+06, -3.60620000e+05, -8.69800000e+04,\n",
       "        1.16700000e+05, -3.72670000e+05, -1.73345000e+06,  1.17200000e+04,\n",
       "        2.60815000e+06, -4.94950000e+05, -3.38800000e+04, -1.31158000e+06,\n",
       "        1.08996000e+06, -1.83900000e+06,  1.05132000e+06,  2.66098000e+06,\n",
       "       -5.04400000e+05,  7.47900000e+04,  6.37300000e+04, -9.73200000e+05,\n",
       "       -2.16812000e+06,  1.59200000e+04,  2.95084000e+06, -2.95220000e+05,\n",
       "       -1.06440000e+05, -3.87200000e+04, -3.54825000e+05, -2.17421500e+06,\n",
       "       -5.08200000e+04,  3.08313000e+06, -2.78730000e+05, -1.98670000e+05,\n",
       "       -1.69280000e+05, -2.62150000e+05, -2.10616000e+06,  3.72080000e+05,\n",
       "        2.20590000e+06, -1.49780000e+05, -2.20640000e+05,  6.34900000e+04,\n",
       "       -4.19990000e+05, -1.92788000e+06,  1.61740000e+05,  2.63209012e+06,\n",
       "       -3.11330009e+05,  5.48198836e+04,  1.36000000e+03, -3.80160000e+05,\n",
       "       -1.78233200e+06, -2.99468000e+05,  2.72874000e+06, -1.69620000e+05,\n",
       "       -4.44240000e+05,  1.67560000e+05, -6.81950000e+05, -1.84285000e+06,\n",
       "        2.07841000e+06,  3.40730000e+05, -2.77000000e+05,  4.95480000e+04,\n",
       "       -2.45628000e+05, -1.84880000e+06,  2.56385000e+06,  2.65700000e+04,\n",
       "       -1.59580000e+05, -1.34550000e+05, -3.93670000e+05, -1.73158000e+06,\n",
       "       -2.76060000e+05,  2.70263000e+06, -3.44430000e+05, -1.30000000e+04,\n",
       "       -1.42960000e+05, -3.44820000e+05, -1.55664000e+06,  2.21223800e+06,\n",
       "       -2.21558000e+05,  1.02540000e+05, -2.69040000e+05, -2.88940000e+05,\n",
       "       -1.68574000e+06,  2.44275000e+06, -3.18670000e+05,  1.12570000e+05,\n",
       "       -1.42750000e+05, -2.08950000e+05, -1.76581000e+06,  2.31266000e+06,\n",
       "       -2.78750000e+05, -1.21300000e+04,  2.16300000e+04, -4.28030000e+05,\n",
       "       -1.77570000e+06,  2.55128000e+06, -4.17620000e+05, -3.30000000e+03,\n",
       "       -1.91250000e+05, -2.90640000e+05, -1.75635000e+06,  2.32110900e+06,\n",
       "       -1.31819000e+05,  6.99070000e+04,  4.96730000e+04, -5.73040000e+05,\n",
       "       -1.72889000e+06, -8.54000000e+03,  2.60093000e+06, -2.29730000e+05,\n",
       "        7.28100000e+04, -1.39500000e+04, -4.33340000e+05, -1.74630000e+06,\n",
       "        2.53482000e+06, -3.35650000e+05, -1.11159702e+05, -2.02980000e+01,\n",
       "       -4.82900000e+05, -1.65831000e+06,  2.44171000e+06, -4.95450000e+05,\n",
       "        3.66400000e+04, -3.47500000e+04, -4.03210000e+05, -1.69620000e+06,\n",
       "        2.53511000e+06, -4.67400000e+05,  2.48500000e+04, -9.73500000e+04,\n",
       "       -5.45780000e+05, -1.49161000e+06,  2.49019000e+06, -4.96800000e+05,\n",
       "       -3.38700000e+04,  8.50000000e+02, -3.39450000e+05, -1.41848000e+06,\n",
       "        1.68905000e+06,  2.43500000e+04, -3.68560000e+05, -1.35430000e+05,\n",
       "       -1.29731000e+06])"
      ]
     },
     "execution_count": 83,
     "metadata": {},
     "output_type": "execute_result"
    }
   ],
   "source": [
    "v = np.diff(f['load_weight'])/np.diff(range(166))\n",
    "v"
   ]
  },
  {
   "cell_type": "markdown",
   "metadata": {},
   "source": [
    "Then calculate the weight for tomorrow waste"
   ]
  },
  {
   "cell_type": "code",
   "execution_count": 84,
   "metadata": {},
   "outputs": [
    {
     "data": {
      "text/plain": [
       "1176970.0"
      ]
     },
     "execution_count": 84,
     "metadata": {},
     "output_type": "execute_result"
    }
   ],
   "source": [
    "weight = f['load_weight'][-1] + v[-1] * 1\n",
    "abs(weight)"
   ]
  },
  {
   "cell_type": "markdown",
   "metadata": {},
   "source": [
    "## QUESITIONS"
   ]
  },
  {
   "cell_type": "markdown",
   "metadata": {},
   "source": [
    "1. Untuk menghitung turunan pertama dapat digunakan metode simbolik dan numerik, untuk kasus ini, teknik apa yang kamu gunakan?\n",
    "2. Apakah kamu membutuhkan fungsi matematis untuk menghitung turunannya? (ya/tidak) berikan alasanmu!\n",
    "3. Berapa load weight yang kamu perkirakan di hari esok (10 Juli 2021)?"
   ]
  },
  {
   "cell_type": "markdown",
   "metadata": {},
   "source": [
    "1. I am usinng the *.diff()* function from numpy"
   ]
  },
  {
   "cell_type": "markdown",
   "metadata": {},
   "source": [
    "2. Yes we need because the formula using the mathematical function as well as the differential"
   ]
  },
  {
   "cell_type": "markdown",
   "metadata": {},
   "source": [
    "3. 1176970.0"
   ]
  },
  {
   "cell_type": "markdown",
   "metadata": {},
   "source": [
    "# CONCLUSIONS"
   ]
  },
  {
   "cell_type": "markdown",
   "metadata": {},
   "source": [
    "1. We had to see the the distribution on Austin City based on the site that we choose is well distribute. But if in another case there are more not well distribute, maybe the goverment have to add more spesific type of waste in Austin"
   ]
  },
  {
   "cell_type": "markdown",
   "metadata": {},
   "source": [
    "2.  Recycling single stream type of waste has a total of 64954430.0 kg's in weight which contributes to 21.15% of weight from total load weight in Austin City. And from six months back the growth of waste has increased."
   ]
  }
 ],
 "metadata": {
  "kernelspec": {
   "display_name": "Python 3.9.5 64-bit",
   "language": "python",
   "name": "python3"
  },
  "language_info": {
   "codemirror_mode": {
    "name": "ipython",
    "version": 3
   },
   "file_extension": ".py",
   "mimetype": "text/x-python",
   "name": "python",
   "nbconvert_exporter": "python",
   "pygments_lexer": "ipython3",
   "version": "3.9.5"
  },
  "orig_nbformat": 4,
  "vscode": {
   "interpreter": {
    "hash": "e31aef8222fb7c235d2ed8e74ce17e973738f89b37261e7466b7a63a6dfb1214"
   }
  }
 },
 "nbformat": 4,
 "nbformat_minor": 2
}
